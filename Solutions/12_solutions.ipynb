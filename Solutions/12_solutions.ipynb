{
 "cells": [
  {
   "cell_type": "markdown",
   "metadata": {
    "slideshow": {
     "slide_type": "slide"
    }
   },
   "source": [
    "# Files and paths"
   ]
  },
  {
   "cell_type": "markdown",
   "metadata": {
    "slideshow": {
     "slide_type": "slide"
    }
   },
   "source": [
    "At the start of the course, we learned how to manipulate strings, and how to read/write files. In this lecture, we go over a few useful features of Python that make it easier to deal with lists of files, as well as formatting data into strings (which can be useful for e.g. constructing filenames or writing data)"
   ]
  },
  {
   "cell_type": "markdown",
   "metadata": {
    "slideshow": {
     "slide_type": "slide"
    }
   },
   "source": [
    "## The ``glob`` module"
   ]
  },
  {
   "cell_type": "markdown",
   "metadata": {
    "slideshow": {
     "slide_type": "slide"
    }
   },
   "source": [
    "In the Linux command-line, it is possible to list multiple files matching a pattern with e.g.:\n",
    "\n",
    "    $ ls *.py\n",
    "\n",
    "This means list all files ending in ``.py``."
   ]
  },
  {
   "cell_type": "markdown",
   "metadata": {
    "slideshow": {
     "slide_type": "slide"
    }
   },
   "source": [
    "The built-in [glob](http://docs.python.org/3/library/glob.html) module allows you to do something similar from Python. The only important function here in the ``glob`` module is also called ``glob``."
   ]
  },
  {
   "cell_type": "markdown",
   "metadata": {
    "slideshow": {
     "slide_type": "slide"
    }
   },
   "source": [
    "This function can be given a pattern (such as ``*.py``) and will return a list of filenames that match:"
   ]
  },
  {
   "cell_type": "code",
   "execution_count": 1,
   "metadata": {
    "collapsed": false,
    "slideshow": {
     "slide_type": "-"
    }
   },
   "outputs": [
    {
     "data": {
      "text/plain": [
       "['00. About the course.ipynb',\n",
       " '01. What is Python.ipynb',\n",
       " '02. How to run Python code.ipynb',\n",
       " '03. Using the IPython notebook.ipynb',\n",
       " '04. Numbers, String, and Lists.ipynb',\n",
       " '05. Booleans, Tuples, and, Dictionaries.ipynb',\n",
       " '06. Control Flow.ipynb',\n",
       " '06.B Comments.ipynb',\n",
       " '07. Functions.ipynb',\n",
       " '08. Reading and writing files.ipynb',\n",
       " '09. Modules and Variable Scope.ipynb',\n",
       " '10. Introduction to Numpy.ipynb',\n",
       " '11. Introduction to Matplotlib.ipynb',\n",
       " '12. Files and paths.ipynb',\n",
       " '13. String Formatting.ipynb',\n",
       " '14. Python variables - behind the scenes.ipynb',\n",
       " '15. Fitting models to data.ipynb',\n",
       " '16. Interpolation and Integration.ipynb',\n",
       " '17. Understanding Python errors.ipynb',\n",
       " '18. Accessing remote resources.ipynb',\n",
       " '19. Object-oriented programming.ipynb',\n",
       " 'Heat Conduction.ipynb',\n",
       " 'Interactive Differential Equations.ipynb',\n",
       " 'Practice Problem - Cryptography.ipynb',\n",
       " 'Practice Problem - Monte-Carlo Error Propagation.ipynb',\n",
       " 'Practice Problem - Radioactive Decay.ipynb',\n",
       " 'Practice Problem - Temperatures.ipynb',\n",
       " 'Problem Set 1-Solved.ipynb',\n",
       " 'Problem Set 1.ipynb',\n",
       " 'Problem Set 2 Alternative.ipynb',\n",
       " 'Problem Set 2-Solved.ipynb',\n",
       " 'Problem Set 2.ipynb',\n",
       " 'Problem Set 3-Solved.ipynb',\n",
       " 'Problem Set 3.ipynb',\n",
       " 'Solutions Day 1.ipynb',\n",
       " 'Solutions Day 2.ipynb',\n",
       " 'Solutions Day 3.ipynb',\n",
       " 'Solutions Day 4.ipynb',\n",
       " 'Solutions Day 5.ipynb',\n",
       " 'solutions2.ipynb']"
      ]
     },
     "execution_count": 1,
     "metadata": {},
     "output_type": "execute_result"
    }
   ],
   "source": [
    "import glob\n",
    "glob.glob('*.ipynb')"
   ]
  },
  {
   "cell_type": "markdown",
   "metadata": {
    "slideshow": {
     "slide_type": "slide"
    }
   },
   "source": [
    "## The ``os`` module"
   ]
  },
  {
   "cell_type": "markdown",
   "metadata": {
    "slideshow": {
     "slide_type": "slide"
    }
   },
   "source": [
    "The [os](http://docs.python.org/3/library/os.html) module allows you to interact with the system, and also contains utilities to construct or analyse file paths. The ``os.path`` sub-module is particularly useful for accessing files - for example,"
   ]
  },
  {
   "cell_type": "code",
   "execution_count": 2,
   "metadata": {
    "collapsed": false
   },
   "outputs": [
    {
     "data": {
      "text/plain": [
       "True"
      ]
     },
     "execution_count": 2,
     "metadata": {},
     "output_type": "execute_result"
    }
   ],
   "source": [
    "import os\n",
    "os.path.exists('test.py')"
   ]
  },
  {
   "cell_type": "markdown",
   "metadata": {},
   "source": [
    "can be used to find out if a file exists."
   ]
  },
  {
   "cell_type": "markdown",
   "metadata": {
    "slideshow": {
     "slide_type": "slide"
    }
   },
   "source": [
    "When constructing the path to a file, for example ``data/file.txt``, one normally has to worry about whether this file is a Linux/Mac or a Windows file path (since Linux/Mac use ``/`` and Windows uses ``\\``). However, the ``os`` module allows you to construct file paths without worrying about this:"
   ]
  },
  {
   "cell_type": "code",
   "execution_count": 3,
   "metadata": {
    "collapsed": false
   },
   "outputs": [
    {
     "data": {
      "text/plain": [
       "'data/file.txt'"
      ]
     },
     "execution_count": 3,
     "metadata": {},
     "output_type": "execute_result"
    }
   ],
   "source": [
    "os.path.join('data', 'file.txt')"
   ]
  },
  {
   "cell_type": "markdown",
   "metadata": {},
   "source": [
    "This can be combined with glob, for example:\n",
    "\n",
    "    glob.glob(os.path.join('data', '*.txt'))"
   ]
  },
  {
   "cell_type": "markdown",
   "metadata": {
    "slideshow": {
     "slide_type": "slide"
    }
   },
   "source": [
    "The ``os`` module also has other useful functions which you can find about from the [documentation](http://docs.python.org/3/library/os.html)."
   ]
  },
  {
   "cell_type": "markdown",
   "metadata": {},
   "source": [
    "## Exercise"
   ]
  },
  {
   "cell_type": "markdown",
   "metadata": {},
   "source": [
    "The ``os.path.getsize`` function can be used to find the size of a file in bytes. Do a loop over all the files in the current directory using ``glob`` and for each one, print out the filename and the size in kilobytes (1024 bytes):"
   ]
  },
  {
   "cell_type": "code",
   "execution_count": 4,
   "metadata": {
    "collapsed": false
   },
   "outputs": [
    {
     "name": "stdout",
     "output_type": "stream",
     "text": [
      "00. About the course.ipynb 8.6689453125 kB\n",
      "01. What is Python.ipynb 5.298828125 kB\n",
      "02. How to run Python code.ipynb 5.1640625 kB\n",
      "03. Using the IPython notebook.ipynb 24.1962890625 kB\n",
      "04. Numbers, String, and Lists.ipynb 36.2587890625 kB\n",
      "05. Booleans, Tuples, and, Dictionaries.ipynb 14.2822265625 kB\n",
      "06. Control Flow.ipynb 22.1845703125 kB\n",
      "06.B Comments.ipynb 4.3525390625 kB\n",
      "07. Functions.ipynb 12.6884765625 kB\n",
      "08. Reading and writing files.ipynb 21.2978515625 kB\n",
      "09. Modules and Variable Scope.ipynb 20.181640625 kB\n",
      "10. Introduction to Numpy.ipynb 51.3017578125 kB\n",
      "11. Introduction to Matplotlib.ipynb 635.876953125 kB\n",
      "12. Files and paths.ipynb 10.1767578125 kB\n",
      "13. String Formatting.ipynb 10.7998046875 kB\n",
      "14. Python variables - behind the scenes.ipynb 22.828125 kB\n",
      "15. Fitting models to data.ipynb 162.712890625 kB\n",
      "16. Interpolation and Integration.ipynb 81.3857421875 kB\n",
      "17. Understanding Python errors.ipynb 25.904296875 kB\n",
      "18. Accessing remote resources.ipynb 650.2490234375 kB\n",
      "19. Object-oriented programming.ipynb 27.611328125 kB\n",
      "20060313.npy 4296.953125 kB\n",
      "cutout_1030.hdf5 25.6015625 kB\n",
      "cutout_1030_z=0.5.hdf5 13.9296875 kB\n",
      "cutout_75.hdf5 318.734375 kB\n",
      "cutout_75_z=0.5.hdf5 231.359375 kB\n",
      "data 0.59765625 kB\n",
      "data.tgz 83.97265625 kB\n",
      "data.zip 85.4970703125 kB\n",
      "Heat Conduction.ipynb 2.623046875 kB\n",
      "Interactive Differential Equations.ipynb 3.640625 kB\n",
      "my_plot.eps 0.609375 kB\n",
      "my_plot.pdf 1.1630859375 kB\n",
      "my_plot.png 1.1767578125 kB\n",
      "Practice Problem - Cryptography.ipynb 5.4609375 kB\n",
      "Practice Problem - Monte-Carlo Error Propagation.ipynb 31.48828125 kB\n",
      "Practice Problem - Radioactive Decay.ipynb 53.0556640625 kB\n",
      "Practice Problem - Temperatures.ipynb 8.0087890625 kB\n",
      "Problem Set 1-Solved.ipynb 26.1181640625 kB\n",
      "Problem Set 1.ipynb 11.572265625 kB\n",
      "Problem Set 2 Alternative.ipynb 2.8115234375 kB\n",
      "Problem Set 2-Solved.ipynb 1239.072265625 kB\n",
      "Problem Set 2.ipynb 8.7255859375 kB\n",
      "Problem Set 3-Solved.ipynb 384.3486328125 kB\n",
      "Problem Set 3.ipynb 20.1240234375 kB\n",
      "PS01-data 0.232421875 kB\n",
      "PS02-ice_data 0.166015625 kB\n",
      "PS03-data 0.099609375 kB\n",
      "Solutions Day 1.ipynb 8.1162109375 kB\n",
      "Solutions Day 2.ipynb 8.5283203125 kB\n",
      "Solutions Day 3.ipynb 291.4248046875 kB\n",
      "Solutions Day 4.ipynb 204.705078125 kB\n",
      "Solutions Day 5.ipynb 90.599609375 kB\n",
      "solutions2.ipynb 7.2578125 kB\n",
      "test.py 0.013671875 kB\n",
      "vademecum.txt 5.55859375 kB\n"
     ]
    }
   ],
   "source": [
    "\n",
    "# your solution here\n",
    "for f in glob.glob('*'):\n",
    "    print(f,str(os.path.getsize(f)/1024)+' kB')"
   ]
  }
 ],
 "metadata": {
  "anaconda-cloud": {},
  "kernelspec": {
   "display_name": "Python 3",
   "language": "python",
   "name": "python3"
  },
  "language_info": {
   "codemirror_mode": {
    "name": "ipython",
    "version": 3
   },
   "file_extension": ".py",
   "mimetype": "text/x-python",
   "name": "python",
   "nbconvert_exporter": "python",
   "pygments_lexer": "ipython3",
   "version": "3.5.2"
  }
 },
 "nbformat": 4,
 "nbformat_minor": 0
}
