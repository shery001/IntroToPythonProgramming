{
 "cells": [
  {
   "cell_type": "markdown",
   "metadata": {},
   "source": [
    "# Practice Problem - Cryptography"
   ]
  },
  {
   "cell_type": "markdown",
   "metadata": {},
   "source": [
    "Cryptography is the study of how to make messages secret or how to read secret messages. A very simple encryption technique is called the *Caesar cipher* -- more information on it can be found [here](http://en.wikipedia.org/wiki/Caesar_cipher). The basic idea is that each letter is replaced by a letter that is a certain number of letters away, so for example if the shift was 2, then A would become C, B would become D, etc. (and Z will become B).\n",
    "\n",
    "Write a function that given a string and a shift, will produce the encrypted string for that shift. Note that the same function can be used to decrypt a message, by passing it a negative shift. \n",
    "\n",
    "The rules are: you should only accept and return lowercase letters, and spaces should not be changed.\n",
    "\n",
    "Then, decrypt the following message, which was encrypted with a shift of 13:\n",
    "    \n",
    "    pbatenghyngvbaf lbh unir fhpprrqrq va qrpelcgvat gur fgevat    \n",
    "    \n",
    "Now if you are up for a challenge, try and decrypt this **and** find the shift:\n",
    "    \n",
    "    gwc uivioml bw nqvl bpm zqopb apqnb\n",
    "    \n",
    "Hint: there are several ways you can convert between letters and numbers. One is to use the built-in functions ``chr`` and ``ord`` (and remember you can find out more about a function by using ``?`` in IPython). Another is to set up the alphabet in a string and use item access (``[4]``) to convert from numbers to letters, and the ``index`` method to convert from letters to numbers."
   ]
  },
  {
   "cell_type": "markdown",
   "metadata": {},
   "source": [
    "## Solution"
   ]
  },
  {
   "cell_type": "code",
   "execution_count": 1,
   "metadata": {
    "collapsed": false
   },
   "outputs": [
    {
     "name": "stdout",
     "output_type": "stream",
     "text": [
      "\n",
      "0 pbatenghyngvbaf lbh unir fhpprrqrq va qrpelcgvat gur fgevat\n",
      "\n",
      "1 oazsdmfgxmfuaze kag tmhq egooqqpqp uz pqodkbfuzs ftq efduzs\n",
      "\n",
      "2 nzyrclefwletzyd jzf slgp dfnnppopo ty opncjaetyr esp dectyr\n",
      "\n",
      "3 myxqbkdevkdsyxc iye rkfo cemmoonon sx nombizdsxq dro cdbsxq\n",
      "\n",
      "4 lxwpajcdujcrxwb hxd qjen bdllnnmnm rw mnlahycrwp cqn bcarwp\n",
      "\n",
      "5 kwvozibctibqwva gwc pidm ackkmmlml qv lmkzgxbqvo bpm abzqvo\n",
      "\n",
      "6 jvunyhabshapvuz fvb ohcl zbjjllklk pu kljyfwapun aol zaypun\n",
      "\n",
      "7 iutmxgzargzouty eua ngbk yaiikkjkj ot jkixevzotm znk yzxotm\n",
      "\n",
      "8 htslwfyzqfyntsx dtz mfaj xzhhjjiji ns ijhwduynsl ymj xywnsl\n",
      "\n",
      "9 gsrkvexypexmsrw csy lezi wyggiihih mr higvctxmrk xli wxvmrk\n",
      "\n",
      "10 frqjudwxodwlrqv brx kdyh vxffhhghg lq ghfubswlqj wkh vwulqj\n",
      "\n",
      "11 eqpitcvwncvkqpu aqw jcxg uweeggfgf kp fgetarvkpi vjg uvtkpi\n",
      "\n",
      "12 dpohsbuvmbujpot zpv ibwf tvddffefe jo efdszqujoh uif tusjoh\n",
      "\n",
      "13 congratulations you have succeeded in decrypting the string\n",
      "\n",
      "14 bnmfqzstkzshnmr xnt gzud rtbbddcdc hm cdbqxoshmf sgd rsqhmf\n",
      "\n",
      "15 amlepyrsjyrgmlq wms fytc qsaaccbcb gl bcapwnrgle rfc qrpgle\n",
      "\n",
      "16 zlkdoxqrixqflkp vlr exsb przzbbaba fk abzovmqfkd qeb pqofkd\n",
      "\n",
      "17 ykjcnwpqhwpekjo ukq dwra oqyyaazaz ej zaynulpejc pda opnejc\n",
      "\n",
      "18 xjibmvopgvodjin tjp cvqz npxxzzyzy di yzxmtkodib ocz nomdib\n",
      "\n",
      "19 wihalunofuncihm sio bupy mowwyyxyx ch xywlsjncha nby mnlcha\n",
      "\n",
      "20 vhgzktmnetmbhgl rhn atox lnvvxxwxw bg wxvkrimbgz max lmkbgz\n",
      "\n",
      "21 ugfyjslmdslagfk qgm zsnw kmuuwwvwv af vwujqhlafy lzw kljafy\n",
      "\n",
      "22 tfexirklcrkzfej pfl yrmv jlttvvuvu ze uvtipgkzex kyv jkizex\n",
      "\n",
      "23 sedwhqjkbqjyedi oek xqlu ikssuutut yd tushofjydw jxu ijhydw\n",
      "\n",
      "24 rdcvgpijapixdch ndj wpkt hjrrttsts xc strgneixcv iwt higxcv\n",
      "\n",
      "25 qcbufohizohwcbg mci vojs giqqssrsr wb rsqfmdhwbu hvs ghfwbu\n"
     ]
    }
   ],
   "source": [
    "# your solution here\n",
    "alphabet = 'abcdefghijklmnopqrstuvwxyz'\n",
    "m = len(alphabet)\n",
    "message = 'pbatenghyngvbaf lbh unir fhpprrqrq va qrpelcgvat gur fgevat'\n",
    "n = len(message)\n",
    "for i in range(m):\n",
    "    translate = ''\n",
    "    print(translate)\n",
    "    for j in range(n):\n",
    "        character = message[j]\n",
    "        if character == ' ':\n",
    "            let = ' '\n",
    "        else:\n",
    "            num = ord(message[j])-ord(alphabet[0])-i\n",
    "            let = chr(num%26+ord(alphabet[0]))\n",
    "        translate += let\n",
    "    print(i,translate)\n"
   ]
  },
  {
   "cell_type": "code",
   "execution_count": 2,
   "metadata": {
    "collapsed": false
   },
   "outputs": [
    {
     "name": "stdout",
     "output_type": "stream",
     "text": [
      "\n",
      "0 gwc uivioml bw nqvl bpm zqopb apqnb\n",
      "\n",
      "1 fvb thuhnlk av mpuk aol ypnoa zopma\n",
      "\n",
      "2 eua sgtgmkj zu lotj znk xomnz ynolz\n",
      "\n",
      "3 dtz rfsflji yt knsi ymj wnlmy xmnky\n",
      "\n",
      "4 csy qerekih xs jmrh xli vmklx wlmjx\n",
      "\n",
      "5 brx pdqdjhg wr ilqg wkh uljkw vkliw\n",
      "\n",
      "6 aqw ocpcigf vq hkpf vjg tkijv ujkhv\n",
      "\n",
      "7 zpv nbobhfe up gjoe uif sjhiu tijgu\n",
      "\n",
      "8 you managed to find the right shift\n",
      "\n",
      "9 xnt lzmzfdc sn ehmc sgd qhfgs rghes\n",
      "\n",
      "10 wms kylyecb rm dglb rfc pgefr qfgdr\n",
      "\n",
      "11 vlr jxkxdba ql cfka qeb ofdeq pefcq\n",
      "\n",
      "12 ukq iwjwcaz pk bejz pda necdp odebp\n",
      "\n",
      "13 tjp hvivbzy oj adiy ocz mdbco ncdao\n",
      "\n",
      "14 sio guhuayx ni zchx nby lcabn mbczn\n",
      "\n",
      "15 rhn ftgtzxw mh ybgw max kbzam labym\n",
      "\n",
      "16 qgm esfsywv lg xafv lzw jayzl kzaxl\n",
      "\n",
      "17 pfl drerxvu kf wzeu kyv izxyk jyzwk\n",
      "\n",
      "18 oek cqdqwut je vydt jxu hywxj ixyvj\n",
      "\n",
      "19 ndj bpcpvts id uxcs iwt gxvwi hwxui\n",
      "\n",
      "20 mci aobousr hc twbr hvs fwuvh gvwth\n",
      "\n",
      "21 lbh znantrq gb svaq gur evtug fuvsg\n",
      "\n",
      "22 kag ymzmsqp fa ruzp ftq dustf eturf\n",
      "\n",
      "23 jzf xlylrpo ez qtyo esp ctrse dstqe\n",
      "\n",
      "24 iye wkxkqon dy psxn dro bsqrd crspd\n",
      "\n",
      "25 hxd vjwjpnm cx orwm cqn arpqc bqroc\n"
     ]
    }
   ],
   "source": [
    "# your solution here\n",
    "alphabet = 'abcdefghijklmnopqrstuvwxyz'\n",
    "m = len(alphabet)\n",
    "message = 'gwc uivioml bw nqvl bpm zqopb apqnb'\n",
    "n = len(message)\n",
    "for i in range(m):\n",
    "    translate = ''\n",
    "    print(translate)\n",
    "    for j in range(n):\n",
    "        character = message[j]\n",
    "        if character == ' ':\n",
    "            let = ' '\n",
    "        else:\n",
    "            num = ord(message[j])-ord(alphabet[0])-i\n",
    "            let = chr(num%26+ord(alphabet[0]))\n",
    "        translate += let\n",
    "    print(i,translate)\n"
   ]
  }
 ],
 "metadata": {
  "kernelspec": {
   "display_name": "Python 3",
   "language": "python",
   "name": "python3"
  },
  "language_info": {
   "codemirror_mode": {
    "name": "ipython",
    "version": 3
   },
   "file_extension": ".py",
   "mimetype": "text/x-python",
   "name": "python",
   "nbconvert_exporter": "python",
   "pygments_lexer": "ipython3",
   "version": "3.5.2"
  }
 },
 "nbformat": 4,
 "nbformat_minor": 0
}
