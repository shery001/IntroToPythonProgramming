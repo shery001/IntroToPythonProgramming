{
 "cells": [
  {
   "cell_type": "markdown",
   "metadata": {
    "slideshow": {
     "slide_type": "slide"
    }
   },
   "source": [
    "# String formatting"
   ]
  },
  {
   "cell_type": "markdown",
   "metadata": {
    "slideshow": {
     "slide_type": "slide"
    }
   },
   "source": [
    "We have talked about strings before, and you know that it is possible to construct strings containing values, e.g."
   ]
  },
  {
   "cell_type": "code",
   "execution_count": 1,
   "metadata": {
    "collapsed": false
   },
   "outputs": [
    {
     "data": {
      "text/plain": [
       "'x=43.2, y=0.3333333333333333'"
      ]
     },
     "execution_count": 1,
     "metadata": {},
     "output_type": "execute_result"
    }
   ],
   "source": [
    "'x=' + str(43.2) + ', y=' + str(1./3.)"
   ]
  },
  {
   "cell_type": "markdown",
   "metadata": {},
   "source": [
    "However, one may want to format the values in more detail, for example forcing values to be a certain length, or have a certain number of decimal places. This is called *string formatting*."
   ]
  },
  {
   "cell_type": "markdown",
   "metadata": {
    "slideshow": {
     "slide_type": "slide"
    }
   },
   "source": [
    "The syntax for formatting strings looks like this:"
   ]
  },
  {
   "cell_type": "code",
   "execution_count": 2,
   "metadata": {
    "collapsed": false,
    "slideshow": {
     "slide_type": "-"
    }
   },
   "outputs": [
    {
     "data": {
      "text/plain": [
       "'0.3333333333333333 0.2857142857142857 2.0'"
      ]
     },
     "execution_count": 2,
     "metadata": {},
     "output_type": "execute_result"
    }
   ],
   "source": [
    "\"{0} {1} {2}\".format(1./3., 2./7., 2.)"
   ]
  },
  {
   "cell_type": "markdown",
   "metadata": {
    "slideshow": {
     "slide_type": "-"
    }
   },
   "source": [
    "In the above example, the ``0``, ``1``, and ``2`` refer to the position of the argument in the parentheses, so one could also do:"
   ]
  },
  {
   "cell_type": "code",
   "execution_count": 3,
   "metadata": {
    "collapsed": false,
    "slideshow": {
     "slide_type": "-"
    }
   },
   "outputs": [
    {
     "data": {
      "text/plain": [
       "'0.3333333333333333 0.3333333333333333 0.2857142857142857'"
      ]
     },
     "execution_count": 3,
     "metadata": {},
     "output_type": "execute_result"
    }
   ],
   "source": [
    "\"{0} {0} {1}\".format(1./3., 2./7.)"
   ]
  },
  {
   "cell_type": "markdown",
   "metadata": {
    "slideshow": {
     "slide_type": "slide"
    }
   },
   "source": [
    "By default, the value looks the same as if one had used ``str()``, but you can also specify the format and number of decimal places:"
   ]
  },
  {
   "cell_type": "code",
   "execution_count": 4,
   "metadata": {
    "collapsed": false,
    "slideshow": {
     "slide_type": "-"
    }
   },
   "outputs": [
    {
     "data": {
      "text/plain": [
       "'     0.333'"
      ]
     },
     "execution_count": 4,
     "metadata": {},
     "output_type": "execute_result"
    }
   ],
   "source": [
    "\"{0:10.3f}\".format(1./3.)"
   ]
  },
  {
   "cell_type": "markdown",
   "metadata": {},
   "source": [
    "The ``f`` stands for floating-point, the 10 is the total length of the string, and the 3 is the nuber of decimal places."
   ]
  },
  {
   "cell_type": "markdown",
   "metadata": {
    "slideshow": {
     "slide_type": "slide"
    }
   },
   "source": [
    "We can do something similar for integers (without the number of decimal places):"
   ]
  },
  {
   "cell_type": "code",
   "execution_count": 5,
   "metadata": {
    "collapsed": false
   },
   "outputs": [
    {
     "data": {
      "text/plain": [
       "'         4'"
      ]
     },
     "execution_count": 5,
     "metadata": {},
     "output_type": "execute_result"
    }
   ],
   "source": [
    "\"{0:10d}\".format(4)"
   ]
  },
  {
   "cell_type": "markdown",
   "metadata": {
    "slideshow": {
     "slide_type": "slide"
    }
   },
   "source": [
    "There are a number of options for string formatting - for instance, one can add leading zeros:"
   ]
  },
  {
   "cell_type": "code",
   "execution_count": 6,
   "metadata": {
    "collapsed": false,
    "slideshow": {
     "slide_type": "fragment"
    }
   },
   "outputs": [
    {
     "data": {
      "text/plain": [
       "'0000000004'"
      ]
     },
     "execution_count": 6,
     "metadata": {},
     "output_type": "execute_result"
    }
   ],
   "source": [
    "\"{0:010d}\".format(4)"
   ]
  },
  {
   "cell_type": "markdown",
   "metadata": {
    "slideshow": {
     "slide_type": "fragment"
    }
   },
   "source": [
    "or align to the left:"
   ]
  },
  {
   "cell_type": "code",
   "execution_count": 7,
   "metadata": {
    "collapsed": false,
    "slideshow": {
     "slide_type": "fragment"
    }
   },
   "outputs": [
    {
     "data": {
      "text/plain": [
       "'4         '"
      ]
     },
     "execution_count": 7,
     "metadata": {},
     "output_type": "execute_result"
    }
   ],
   "source": [
    "\"{0:<10d}\".format(4)"
   ]
  },
  {
   "cell_type": "markdown",
   "metadata": {
    "slideshow": {
     "slide_type": "slide"
    }
   },
   "source": [
    "Instead of using ``0``, ``1``, etc. it is also possible to pass the values by name:"
   ]
  },
  {
   "cell_type": "code",
   "execution_count": 8,
   "metadata": {
    "collapsed": false,
    "slideshow": {
     "slide_type": "fragment"
    }
   },
   "outputs": [
    {
     "data": {
      "text/plain": [
       "'03'"
      ]
     },
     "execution_count": 8,
     "metadata": {},
     "output_type": "execute_result"
    }
   ],
   "source": [
    "\"{day:02d}\".format(day=3)"
   ]
  },
  {
   "cell_type": "markdown",
   "metadata": {
    "slideshow": {
     "slide_type": "slide"
    }
   },
   "source": [
    "Here is an example of string formatting for a date:"
   ]
  },
  {
   "cell_type": "code",
   "execution_count": 9,
   "metadata": {
    "collapsed": false
   },
   "outputs": [
    {
     "data": {
      "text/plain": [
       "'20130708'"
      ]
     },
     "execution_count": 9,
     "metadata": {},
     "output_type": "execute_result"
    }
   ],
   "source": [
    "\"{year:04d}{month:02d}{day:02d}\".format(year=2013, month=7, day=8)"
   ]
  },
  {
   "cell_type": "markdown",
   "metadata": {},
   "source": [
    "## Exercise 1"
   ]
  },
  {
   "cell_type": "markdown",
   "metadata": {},
   "source": [
    "Write a function that takes year, month, day, hour, minutes, and seconds and converts them to a string with format ``2006-03-22 13:12:55``:"
   ]
  },
  {
   "cell_type": "code",
   "execution_count": 8,
   "metadata": {
    "collapsed": false
   },
   "outputs": [
    {
     "name": "stdout",
     "output_type": "stream",
     "text": [
      "2017-03-29 15:52:30\n",
      "2017-03-29 15:52:30\n"
     ]
    }
   ],
   "source": [
    "\n",
    "# your solution here\n",
    "def date_time(year,month,day,hour,mins,secs):\n",
    "    print(\"{y:04d}\".format(y=year)+'-'+\n",
    "          \"{m:02d}\".format(m=month)+'-'+\n",
    "          \"{d:02d}\".format(d=day)+' '+\n",
    "          \"{h:02d}\".format(h=hour)+':'+\n",
    "          \"{mi:02d}\".format(mi=mins)+':'+\n",
    "          \"{s:02d}\".format(s=secs)\n",
    "         )\n",
    "    \n",
    "def date_time_short(year,month,day,hour,mins,secs):\n",
    "    print(\"{y:04d}-{m:02d}-{d:02d} {h:02d}:{mi:02d}:{s:02d}\".\n",
    "          format(y=year,m=month,d=day,h=hour,mi=mins,s=secs)\n",
    "         )\n",
    "\n",
    "date_time(2017,3,29,15,52,30)\n",
    "date_time_short(2017,3,29,15,52,30)"
   ]
  },
  {
   "cell_type": "markdown",
   "metadata": {},
   "source": [
    "## Exercise 2"
   ]
  },
  {
   "cell_type": "markdown",
   "metadata": {},
   "source": [
    "Write a function that takes a string like ``2006-03-22 13:12:55`` and return the year, month, day, hour, minutes, and seconds as integers:"
   ]
  },
  {
   "cell_type": "code",
   "execution_count": 5,
   "metadata": {
    "collapsed": false
   },
   "outputs": [
    {
     "name": "stdout",
     "output_type": "stream",
     "text": [
      "[2017, 3, 29, 15, 52, 30]\n"
     ]
    }
   ],
   "source": [
    "\n",
    "# your solution here\n",
    "def date_time_to_ints(dt):\n",
    "    year = int(dt[0:4])\n",
    "    month = int(dt[5:7])\n",
    "    day = int(dt[8:10])\n",
    "    hour = int(dt[11:13])\n",
    "    mins = int(dt[14:16])\n",
    "    secs = int(dt[17:19])\n",
    "    print([year,month,day,hour,mins,secs])\n",
    "    \n",
    "date_time_to_ints('2017-03-29 15:52:30')"
   ]
  },
  {
   "cell_type": "code",
   "execution_count": 10,
   "metadata": {
    "collapsed": false
   },
   "outputs": [
    {
     "name": "stdout",
     "output_type": "stream",
     "text": [
      "['2017', '03', '29', '15', '52', '30']\n"
     ]
    }
   ],
   "source": [
    "#solution by Anna Huhn\n",
    "def convert_date(date_str):\n",
    "   columns = date_str.split(' ')\n",
    "   date, time = columns[0], columns[1]\n",
    "   columns_date = date.split('-')\n",
    "   year,month, day = columns_date[0], columns_date[1], columns_date[2]\n",
    "   columns_time = time.split(':')\n",
    "   hour, minutes, sec = columns_time[0], columns_time[1], columns_time[2]\n",
    "   print([year,month, day,hour, minutes, sec])\n",
    "\n",
    "convert_date('2017-03-29 15:52:30')"
   ]
  },
  {
   "cell_type": "code",
   "execution_count": 7,
   "metadata": {
    "collapsed": false
   },
   "outputs": [
    {
     "data": {
      "text/plain": [
       "[2017, 3, 29, 15, 52, 30]"
      ]
     },
     "execution_count": 7,
     "metadata": {},
     "output_type": "execute_result"
    }
   ],
   "source": [
    "#solution by Alexander Gresh\n",
    "def get_int(s):\n",
    "   pos = 0\n",
    "   while s[0] == 0:\n",
    "       pos += 1\n",
    "   return int(s[pos:])\n",
    "\n",
    "def get_values(stamp):\n",
    "   pos = 0\n",
    "   nums = \"0123456789\"\n",
    "   output = []\n",
    "   entry = \"\"\n",
    "   for pos in range(0,len(stamp)):\n",
    "       if nums.find(stamp[pos]) != -1:\n",
    "           entry += stamp[pos]\n",
    "           continue\n",
    "       else:\n",
    "           output.append(get_int(entry)) # erase 0\n",
    "           entry = \"\"\n",
    "   output.append(get_int(entry)) # only works if last char is a number\n",
    "   return output\n",
    "\n",
    "get_values('2017-03-29 15:52:30')"
   ]
  }
 ],
 "metadata": {
  "kernelspec": {
   "display_name": "Python 3",
   "language": "python",
   "name": "python3"
  },
  "language_info": {
   "codemirror_mode": {
    "name": "ipython",
    "version": 3
   },
   "file_extension": ".py",
   "mimetype": "text/x-python",
   "name": "python",
   "nbconvert_exporter": "python",
   "pygments_lexer": "ipython3",
   "version": "3.5.2"
  }
 },
 "nbformat": 4,
 "nbformat_minor": 0
}
