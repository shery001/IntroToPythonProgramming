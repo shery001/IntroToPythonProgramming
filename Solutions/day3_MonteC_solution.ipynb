{
 "cells": [
  {
   "cell_type": "markdown",
   "metadata": {},
   "source": [
    "# Practice Problem - Monte-Carlo Error Propagation"
   ]
  },
  {
   "cell_type": "markdown",
   "metadata": {},
   "source": [
    "## Part 1"
   ]
  },
  {
   "cell_type": "markdown",
   "metadata": {},
   "source": [
    "You have likely encountered the concept of propagation of uncertainty before (see [the usual rules here](http://en.wikipedia.org/wiki/Propagation_of_uncertainty#Example_formulas)). The idea is that given measurements with uncertainties, we can find the uncertainty on the final result of an equation.\n",
    "\n",
    "For example, let us consider the following equation:\n",
    "\n",
    "$$F = \\frac{G~M_1~M_2}{r^2}$$\n",
    "\n",
    "which gives the gravitational force between two masses $M_1$ and $M_2$ separated by a distance $r$.\n",
    "\n",
    "Let us now imagine that we have two masses:\n",
    "\n",
    "$$M_1=40\\times10^4\\pm0.05\\times10^4\\rm{kg}$$\n",
    "\n",
    "and\n",
    "\n",
    "$$M_2=30\\times10^4\\pm0.1\\times10^4\\rm{kg}$$\n",
    "\n",
    "separated by a distance:\n",
    "\n",
    "$$r=3.2\\pm0.01~\\rm{m}$$\n",
    "\n",
    "where the uncertaintes are the standard deviations of Gaussian distributions which could be e.g. measurement errors.\n",
    "\n",
    "We also know:\n",
    "\n",
    "$$G = 6.67384\\times10^{-11}~\\rm{m}^3~\\rm{kg}^{-1}~\\rm{s}^{-2}$$\n",
    "\n",
    "(exact value, no uncertainty)\n",
    "\n",
    "Use the [standard error propagation rules](http://en.wikipedia.org/wiki/Propagation_of_uncertainty#Example_formulas) to determine the resulting force and uncertainty in your script (you can just derive the equation by hand and implement it in a single line in your code).\n",
    "\n",
    "Now, we can try using a **Monte-Carlo** technique instead. The idea behind Monte-Carlo techniques is to generate many possible solutions using random numbers and using these to look at the overall results. In the above case, you can propagate uncertainties with a Monte-Carlo method by doing the following:\n",
    "\n",
    "* randomly sample values of $M_1$, $M_2$, and $r$, 1000000 times, using the means and standard deviations given above\n",
    "\n",
    "* compute the gravitational force for each set of values\n",
    "\n",
    "You should do this with Numpy arrays, and **without any loops**. You should then get an array of 1000000 different values for the forces.\n",
    "\n",
    "Make a plot of the normalized histogram of these values of the force, and then overplot a Gaussian function with the mean and standard deviation derived with the standard error propagation rules. Make sure that you pick the range of x values in the plot wisely, so that the two distributions can be seen. Make sure there are also a sensible number of bins in the histogram so that you can compare the shape of the histogram and the Gaussian function. The two distributions should agree pretty well."
   ]
  },
  {
   "cell_type": "code",
   "execution_count": 1,
   "metadata": {
    "collapsed": false
   },
   "outputs": [
    {
     "name": "stdout",
     "output_type": "stream",
     "text": [
      "0.7820906249999999 0.00562540727264\n"
     ]
    }
   ],
   "source": [
    "# Your solution here\n",
    "import numpy as np\n",
    "import matplotlib.pyplot as plt\n",
    "%matplotlib inline\n",
    "\n",
    "def gaussian(x,mu,sig):\n",
    "    return (1/(np.sqrt(2*np.pi)*sig))*np.exp(-(x-mu)**2/(2*sig**2))\n",
    "\n",
    "def force(m1,m2,r):\n",
    "    g = 6.67384e-11\n",
    "    f = g*m1*m2/r**2.\n",
    "    return f\n",
    "\n",
    "m1 = 40.e4\n",
    "m1e = 0.05e4\n",
    "m2 = 30.e4\n",
    "m2e = 0.1e4\n",
    "r = 3.2\n",
    "re = 0.01\n",
    "\n",
    "f = force(m1,m2,r)\n",
    "fe = f*np.sqrt((m1e/m1)**2.+(m2e/m2)**2.+4.*(re/r)**2.)\n",
    "print(f,fe)"
   ]
  },
  {
   "cell_type": "code",
   "execution_count": 2,
   "metadata": {
    "collapsed": false
   },
   "outputs": [
    {
     "name": "stdout",
     "output_type": "stream",
     "text": [
      "0.782109220314 0.00562210198603\n"
     ]
    },
    {
     "data": {
      "text/plain": [
       "[<matplotlib.lines.Line2D at 0x1006cf278>]"
      ]
     },
     "execution_count": 2,
     "metadata": {},
     "output_type": "execute_result"
    },
    {
     "data": {
      "image/png": "[encoded data removed]",
      "text/plain": [
       "<matplotlib.figure.Figure at 0x1035aa3c8>"
      ]
     },
     "metadata": {},
     "output_type": "display_data"
    }
   ],
   "source": [
    "nmc = 1000000\n",
    "m1mc = np.random.normal(m1,m1e,nmc)\n",
    "m2mc = np.random.normal(m2,m2e,nmc)\n",
    "rmc = np.random.normal(r,re,nmc)\n",
    "fmc = force(m1mc,m2mc,rmc)\n",
    "print(np.mean(fmc),np.std(fmc))\n",
    "\n",
    "h = plt.hist(fmc, bins=50, normed=True)\n",
    "x = np.linspace(0.75,0.82,1000)\n",
    "plt.plot(x,gaussian(x,f,fe),'r',linewidth=5, alpha=0.5)"
   ]
  },
  {
   "cell_type": "markdown",
   "metadata": {},
   "source": [
    "## Part 2"
   ]
  },
  {
   "cell_type": "markdown",
   "metadata": {},
   "source": [
    "Now repeat the experiment above with the following values:\n",
    "\n",
    "$$M_1=40\\times10^4\\pm2\\times10^4\\rm{kg}$$\n",
    "$$M_2=30\\times10^4\\pm10\\times10^4\\rm{kg}$$\n",
    "$$r=3.2\\pm1.0~\\rm{m}$$\n",
    "\n",
    "and as above, produce a plot.\n",
    "\n",
    "In this case, which method do you think is more accurate? Why? What do you think are the advantages of using a Monte-Carlo technique?"
   ]
  },
  {
   "cell_type": "markdown",
   "metadata": {},
   "source": [
    "## Solution"
   ]
  },
  {
   "cell_type": "code",
   "execution_count": 3,
   "metadata": {
    "collapsed": false
   },
   "outputs": [
    {
     "name": "stdout",
     "output_type": "stream",
     "text": [
      "0.7820906249999999 0.555359304341\n"
     ]
    }
   ],
   "source": [
    "\n",
    "# your solution here\n",
    "m1 = 40.e4\n",
    "m1e = 2.e4\n",
    "m2 = 30.e4\n",
    "m2e = 10.e4\n",
    "r = 3.2\n",
    "re = 1.\n",
    "\n",
    "f = force(m1,m2,r)\n",
    "fe = f*np.sqrt((m1e/m1)**2.+(m2e/m2)**2.+4.*(re/r)**2.)\n",
    "print(f,fe)"
   ]
  },
  {
   "cell_type": "code",
   "execution_count": 4,
   "metadata": {
    "collapsed": false
   },
   "outputs": [
    {
     "name": "stdout",
     "output_type": "stream",
     "text": [
      "-1.61009960563 1737835.88494\n"
     ]
    },
    {
     "data": {
      "text/plain": [
       "[<matplotlib.lines.Line2D at 0x10cc61f98>]"
      ]
     },
     "execution_count": 4,
     "metadata": {},
     "output_type": "execute_result"
    },
    {
     "data": {
      "image/png": "[encoded data removed]",
      "text/plain": [
       "<matplotlib.figure.Figure at 0x105dc44e0>"
      ]
     },
     "metadata": {},
     "output_type": "display_data"
    }
   ],
   "source": [
    "nmc = 1000000\n",
    "m1mc = np.random.normal(m1,m1e,nmc)\n",
    "m2mc = np.random.normal(m2,m2e,nmc)\n",
    "rmc = np.random.normal(r,re,nmc)\n",
    "fmc = force(m1mc,m2mc,rmc)\n",
    "print(np.min(rmc),np.std(fmc))\n",
    "\n",
    "h = plt.hist(fmc, bins=50, range=[-1,5], normed=True)\n",
    "x = np.linspace(-1,5,1000)\n",
    "plt.plot(x,gaussian(x,f,fe),'r',linewidth=5, alpha=0.5)"
   ]
  },
  {
   "cell_type": "markdown",
   "metadata": {
    "collapsed": true
   },
   "source": [
    "This example shows that the MC error propagation gives the correct probability distribution function (PDF) of the force, even if the analytical error propagation is technically correct in providing the standard deviation. The point is that the PDF is non-Gaussian. This happens because the uncertainties on the input numbers are large relative to the numbers. For instance, the uncertainty on the distance between both masses is about 30% of the distance. This means that a zero distance is about 3$\\sigma$ away, and that in 1000000 MC experiments, some distances will be drawn that are $\\leq0$. As a result, the error propagation contains a singularity, leading to extremely high forces. On the other hand, the force cannot be smaller than zero, unless an (unphysical) negative mass is drawn. This is possible for $M_2$, which also has a large uncertainty, and explains why the above histogram shows some MC experiments with a negative force."
   ]
  }
 ],
 "metadata": {
  "anaconda-cloud": {},
  "kernelspec": {
   "display_name": "Python 3",
   "language": "python",
   "name": "python3"
  },
  "language_info": {
   "codemirror_mode": {
    "name": "ipython",
    "version": 3
   },
   "file_extension": ".py",
   "mimetype": "text/x-python",
   "name": "python",
   "nbconvert_exporter": "python",
   "pygments_lexer": "ipython3",
   "version": "3.5.2"
  }
 },
 "nbformat": 4,
 "nbformat_minor": 0
}
