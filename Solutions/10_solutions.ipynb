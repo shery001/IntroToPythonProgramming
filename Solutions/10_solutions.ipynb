{
 "cells": [
  {
   "cell_type": "markdown",
   "metadata": {
    "deletable": true,
    "editable": true
   },
   "source": [
    "# Introduction to Numpy"
   ]
  },
  {
   "cell_type": "markdown",
   "metadata": {
    "deletable": true,
    "editable": true,
    "slideshow": {
     "slide_type": "slide"
    }
   },
   "source": [
    "Python lists:\n",
    "\n",
    "* are very flexible\n",
    "* don't require uniform numerical types\n",
    "* are very easy to modify (inserting or appending objects).\n",
    "\n",
    "However, flexibility often comes at the cost of performance, and lists are not the ideal object for numerical calculations."
   ]
  },
  {
   "cell_type": "markdown",
   "metadata": {
    "deletable": true,
    "editable": true,
    "slideshow": {
     "slide_type": "slide"
    }
   },
   "source": [
    "This is where **Numpy** comes in. Numpy is a Python module that defines a powerful n-dimensional array object that uses C and Fortran code behind the scenes to provide high performance."
   ]
  },
  {
   "cell_type": "markdown",
   "metadata": {
    "deletable": true,
    "editable": true,
    "slideshow": {
     "slide_type": "slide"
    }
   },
   "source": [
    "The downside of Numpy arrays is that they have a more rigid structure, and require a single numerical type (e.g. floating point values), but for a lot of scientific work, this is exactly what is needed."
   ]
  },
  {
   "cell_type": "markdown",
   "metadata": {
    "deletable": true,
    "editable": true,
    "slideshow": {
     "slide_type": "slide"
    }
   },
   "source": [
    "The Numpy module is imported with:"
   ]
  },
  {
   "cell_type": "code",
   "execution_count": 1,
   "metadata": {
    "collapsed": false,
    "deletable": true,
    "editable": true
   },
   "outputs": [],
   "source": [
    "#  import numpy"
   ]
  },
  {
   "cell_type": "markdown",
   "metadata": {
    "deletable": true,
    "editable": true,
    "slideshow": {
     "slide_type": "slide"
    }
   },
   "source": [
    "Although in the rest of this course, and in many packages, the following convention is used:"
   ]
  },
  {
   "cell_type": "code",
   "execution_count": 1,
   "metadata": {
    "collapsed": false,
    "deletable": true,
    "editable": true
   },
   "outputs": [],
   "source": [
    "import numpy as np"
   ]
  },
  {
   "cell_type": "markdown",
   "metadata": {
    "deletable": true,
    "editable": true
   },
   "source": [
    "This is because Numpy is so often used that it is shorter to type ``np`` than ``numpy``."
   ]
  },
  {
   "cell_type": "markdown",
   "metadata": {
    "deletable": true,
    "editable": true
   },
   "source": [
    "## Creating Numpy arrays"
   ]
  },
  {
   "cell_type": "markdown",
   "metadata": {
    "deletable": true,
    "editable": true,
    "slideshow": {
     "slide_type": "slide"
    }
   },
   "source": [
    "The easiest way to create an array is from a Python list, using the ``array`` function:"
   ]
  },
  {
   "cell_type": "code",
   "execution_count": 3,
   "metadata": {
    "collapsed": false,
    "deletable": true,
    "editable": true
   },
   "outputs": [],
   "source": [
    "a = np.array([10, 20, 30, 40])"
   ]
  },
  {
   "cell_type": "markdown",
   "metadata": {
    "deletable": true,
    "editable": true,
    "slideshow": {
     "slide_type": "slide"
    }
   },
   "source": [
    "Numpy arrays have several attributes that give useful information about the array:"
   ]
  },
  {
   "cell_type": "code",
   "execution_count": 4,
   "metadata": {
    "collapsed": false,
    "deletable": true,
    "editable": true
   },
   "outputs": [
    {
     "data": {
      "text/plain": [
       "1"
      ]
     },
     "execution_count": 4,
     "metadata": {},
     "output_type": "execute_result"
    }
   ],
   "source": [
    "a.ndim  # number of dimensions"
   ]
  },
  {
   "cell_type": "code",
   "execution_count": 5,
   "metadata": {
    "collapsed": false,
    "deletable": true,
    "editable": true,
    "slideshow": {
     "slide_type": "fragment"
    }
   },
   "outputs": [
    {
     "data": {
      "text/plain": [
       "(4,)"
      ]
     },
     "execution_count": 5,
     "metadata": {},
     "output_type": "execute_result"
    }
   ],
   "source": [
    "a.shape  # shape of the array"
   ]
  },
  {
   "cell_type": "code",
   "execution_count": 6,
   "metadata": {
    "collapsed": false,
    "deletable": true,
    "editable": true,
    "slideshow": {
     "slide_type": "fragment"
    }
   },
   "outputs": [
    {
     "data": {
      "text/plain": [
       "dtype('int64')"
      ]
     },
     "execution_count": 6,
     "metadata": {},
     "output_type": "execute_result"
    }
   ],
   "source": [
    "a.dtype  # numerical type"
   ]
  },
  {
   "cell_type": "markdown",
   "metadata": {
    "deletable": true,
    "editable": true,
    "slideshow": {
     "slide_type": "skip"
    }
   },
   "source": [
    "*Note: Numpy arrays actually support more than just one integer type and one floating point type - they support signed and unsigned 8-, 16-, 32-, and 64-bit integers, and 16-, 32-, and 64-bit floating point values.*"
   ]
  },
  {
   "cell_type": "markdown",
   "metadata": {
    "deletable": true,
    "editable": true,
    "slideshow": {
     "slide_type": "slide"
    }
   },
   "source": [
    "There are several other ways to create arrays. For example, there is an ``arange`` function that can be used similarly to the built-in Python ``range`` function, with the exception that it can take floating-point input:"
   ]
  },
  {
   "cell_type": "code",
   "execution_count": 7,
   "metadata": {
    "collapsed": false,
    "deletable": true,
    "editable": true
   },
   "outputs": [
    {
     "data": {
      "text/plain": [
       "array([0, 1, 2, 3, 4, 5, 6, 7, 8, 9])"
      ]
     },
     "execution_count": 7,
     "metadata": {},
     "output_type": "execute_result"
    }
   ],
   "source": [
    "np.arange(10)"
   ]
  },
  {
   "cell_type": "code",
   "execution_count": 8,
   "metadata": {
    "collapsed": false,
    "deletable": true,
    "editable": true,
    "slideshow": {
     "slide_type": "fragment"
    }
   },
   "outputs": [
    {
     "data": {
      "text/plain": [
       "array([ 3,  5,  7,  9, 11])"
      ]
     },
     "execution_count": 8,
     "metadata": {},
     "output_type": "execute_result"
    }
   ],
   "source": [
    "np.arange(3, 12, 2)"
   ]
  },
  {
   "cell_type": "code",
   "execution_count": 9,
   "metadata": {
    "collapsed": false,
    "deletable": true,
    "editable": true,
    "slideshow": {
     "slide_type": "fragment"
    }
   },
   "outputs": [
    {
     "data": {
      "text/plain": [
       "array([ 1.2,  1.3,  1.4,  1.5,  1.6,  1.7,  1.8,  1.9,  2. ,  2.1,  2.2,\n",
       "        2.3,  2.4,  2.5,  2.6,  2.7,  2.8,  2.9,  3. ,  3.1,  3.2,  3.3,\n",
       "        3.4,  3.5,  3.6,  3.7,  3.8,  3.9,  4. ,  4.1,  4.2,  4.3])"
      ]
     },
     "execution_count": 9,
     "metadata": {},
     "output_type": "execute_result"
    }
   ],
   "source": [
    "np.arange(1.2, 4.4, 0.1)"
   ]
  },
  {
   "cell_type": "markdown",
   "metadata": {
    "deletable": true,
    "editable": true,
    "slideshow": {
     "slide_type": "slide"
    }
   },
   "source": [
    "Another useful function is ``linspace``, which can be used to create linearly spaced values between and including limits:"
   ]
  },
  {
   "cell_type": "code",
   "execution_count": 10,
   "metadata": {
    "collapsed": false,
    "deletable": true,
    "editable": true
   },
   "outputs": [
    {
     "data": {
      "text/plain": [
       "array([ 11. ,  11.1,  11.2,  11.3,  11.4,  11.5,  11.6,  11.7,  11.8,\n",
       "        11.9,  12. ])"
      ]
     },
     "execution_count": 10,
     "metadata": {},
     "output_type": "execute_result"
    }
   ],
   "source": [
    "np.linspace(11., 12., 11)"
   ]
  },
  {
   "cell_type": "markdown",
   "metadata": {
    "deletable": true,
    "editable": true,
    "slideshow": {
     "slide_type": "slide"
    }
   },
   "source": [
    "and a similar function can be used to create logarithmically spaced values between and including limits:"
   ]
  },
  {
   "cell_type": "code",
   "execution_count": 11,
   "metadata": {
    "collapsed": false,
    "deletable": true,
    "editable": true
   },
   "outputs": [
    {
     "data": {
      "text/plain": [
       "array([    10.        ,     31.6227766 ,    100.        ,    316.22776602,\n",
       "         1000.        ,   3162.27766017,  10000.        ])"
      ]
     },
     "execution_count": 11,
     "metadata": {},
     "output_type": "execute_result"
    }
   ],
   "source": [
    "np.logspace(1., 4., 7)"
   ]
  },
  {
   "cell_type": "markdown",
   "metadata": {
    "deletable": true,
    "editable": true,
    "slideshow": {
     "slide_type": "slide"
    }
   },
   "source": [
    "Finally, the ``zeros`` and ``ones`` functions can be used to create arrays intially set to ``0`` and ``1`` respectively:"
   ]
  },
  {
   "cell_type": "code",
   "execution_count": 12,
   "metadata": {
    "collapsed": false,
    "deletable": true,
    "editable": true
   },
   "outputs": [
    {
     "data": {
      "text/plain": [
       "array([ 0.,  0.,  0.,  0.,  0.,  0.,  0.,  0.,  0.,  0.])"
      ]
     },
     "execution_count": 12,
     "metadata": {},
     "output_type": "execute_result"
    }
   ],
   "source": [
    "np.zeros(10)"
   ]
  },
  {
   "cell_type": "code",
   "execution_count": 13,
   "metadata": {
    "collapsed": false,
    "deletable": true,
    "editable": true
   },
   "outputs": [
    {
     "data": {
      "text/plain": [
       "array([ 1.,  1.,  1.,  1.,  1.])"
      ]
     },
     "execution_count": 13,
     "metadata": {},
     "output_type": "execute_result"
    }
   ],
   "source": [
    "np.ones(5)"
   ]
  },
  {
   "cell_type": "markdown",
   "metadata": {
    "deletable": true,
    "editable": true
   },
   "source": [
    "## Combining arrays"
   ]
  },
  {
   "cell_type": "markdown",
   "metadata": {
    "deletable": true,
    "editable": true,
    "slideshow": {
     "slide_type": "slide"
    }
   },
   "source": [
    "Numpy arrays can be combined numerically using the standard ``+-*/**`` operators:"
   ]
  },
  {
   "cell_type": "code",
   "execution_count": 14,
   "metadata": {
    "collapsed": false,
    "deletable": true,
    "editable": true
   },
   "outputs": [],
   "source": [
    "x = np.array([1,2,3])\n",
    "y = np.array([4,5,6])"
   ]
  },
  {
   "cell_type": "code",
   "execution_count": 15,
   "metadata": {
    "collapsed": false,
    "deletable": true,
    "editable": true,
    "slideshow": {
     "slide_type": "fragment"
    }
   },
   "outputs": [
    {
     "data": {
      "text/plain": [
       "array([ 9, 12, 15])"
      ]
     },
     "execution_count": 15,
     "metadata": {},
     "output_type": "execute_result"
    }
   ],
   "source": [
    "x + 2 * y"
   ]
  },
  {
   "cell_type": "code",
   "execution_count": 16,
   "metadata": {
    "collapsed": false,
    "deletable": true,
    "editable": true,
    "slideshow": {
     "slide_type": "fragment"
    }
   },
   "outputs": [
    {
     "data": {
      "text/plain": [
       "array([  1,  32, 729])"
      ]
     },
     "execution_count": 16,
     "metadata": {},
     "output_type": "execute_result"
    }
   ],
   "source": [
    "x ** y"
   ]
  },
  {
   "cell_type": "markdown",
   "metadata": {
    "deletable": true,
    "editable": true,
    "slideshow": {
     "slide_type": "slide"
    }
   },
   "source": [
    "Note that this differs from lists:"
   ]
  },
  {
   "cell_type": "code",
   "execution_count": 17,
   "metadata": {
    "collapsed": false,
    "deletable": true,
    "editable": true
   },
   "outputs": [],
   "source": [
    "x = [1,2,3]\n",
    "y = [4,5,6]"
   ]
  },
  {
   "cell_type": "code",
   "execution_count": 18,
   "metadata": {
    "collapsed": false,
    "deletable": true,
    "editable": true,
    "slideshow": {
     "slide_type": "fragment"
    }
   },
   "outputs": [
    {
     "data": {
      "text/plain": [
       "[1, 2, 3, 4, 5, 6, 4, 5, 6]"
      ]
     },
     "execution_count": 18,
     "metadata": {},
     "output_type": "execute_result"
    }
   ],
   "source": [
    "x + 2 * y"
   ]
  },
  {
   "cell_type": "markdown",
   "metadata": {
    "deletable": true,
    "editable": true
   },
   "source": [
    "## Exercise 1"
   ]
  },
  {
   "cell_type": "markdown",
   "metadata": {
    "deletable": true,
    "editable": true
   },
   "source": [
    "Create an array which contains 11 values logarithmically spaced between $10^{-20}$ and $10^{-10}$."
   ]
  },
  {
   "cell_type": "code",
   "execution_count": 19,
   "metadata": {
    "collapsed": false,
    "deletable": true,
    "editable": true
   },
   "outputs": [
    {
     "data": {
      "text/plain": [
       "array([  1.00000000e-20,   1.00000000e-19,   1.00000000e-18,\n",
       "         1.00000000e-17,   1.00000000e-16,   1.00000000e-15,\n",
       "         1.00000000e-14,   1.00000000e-13,   1.00000000e-12,\n",
       "         1.00000000e-11,   1.00000000e-10])"
      ]
     },
     "execution_count": 19,
     "metadata": {},
     "output_type": "execute_result"
    }
   ],
   "source": [
    "# your solution here\n",
    "np.logspace(-20,-10,11.)"
   ]
  },
  {
   "cell_type": "markdown",
   "metadata": {
    "deletable": true,
    "editable": true
   },
   "source": [
    "Create an array which contains the value 2 repeated 10 times (hint: there are two quick ways to do that – one is by multiplying a list, one by multiplying an array)"
   ]
  },
  {
   "cell_type": "code",
   "execution_count": 20,
   "metadata": {
    "collapsed": false,
    "deletable": true,
    "editable": true
   },
   "outputs": [
    {
     "name": "stdout",
     "output_type": "stream",
     "text": [
      "[ 2.  2.  2.  2.  2.  2.  2.  2.  2.  2.]\n",
      "[ 2.  2.  2.  2.  2.  2.  2.  2.  2.  2.]\n",
      "[ 2.  2.  2.  2.  2.  2.  2.  2.  2.  2.]\n"
     ]
    }
   ],
   "source": [
    "# your solution here\n",
    "print(2.+np.zeros(10))\n",
    "print(2.*np.ones(10))\n",
    "print(np.array(10*[2.]))"
   ]
  },
  {
   "cell_type": "markdown",
   "metadata": {
    "deletable": true,
    "editable": true
   },
   "source": [
    "Try using ``np.empty(10)`` and compare the results to ``np.zeros(10)``.  Also compare to what the people next to you got for np.empty.  What do you think is going on?"
   ]
  },
  {
   "cell_type": "code",
   "execution_count": 21,
   "metadata": {
    "collapsed": false,
    "deletable": true,
    "editable": true
   },
   "outputs": [
    {
     "name": "stdout",
     "output_type": "stream",
     "text": [
      "[ 2.  2.  2.  2.  2.  2.  2.  2.  2.  2.]\n",
      "[ 0.  0.  0.  0.  0.  0.  0.  0.  0.  0.]\n"
     ]
    }
   ],
   "source": [
    "# your solution here\n",
    "print(np.empty(10))\n",
    "print(np.zeros(10))"
   ]
  },
  {
   "cell_type": "markdown",
   "metadata": {
    "deletable": true,
    "editable": true
   },
   "source": [
    "Create an array containing 5 times the value 0, as a 32-bit floating point array (hint: have a look at the docs for np.zeros; the type you'd be looking for is called float32)"
   ]
  },
  {
   "cell_type": "code",
   "execution_count": 22,
   "metadata": {
    "collapsed": false,
    "deletable": true,
    "editable": true
   },
   "outputs": [
    {
     "data": {
      "text/plain": [
       "array([ 0.,  0.,  0.,  0.,  0.], dtype=float32)"
      ]
     },
     "execution_count": 22,
     "metadata": {},
     "output_type": "execute_result"
    }
   ],
   "source": [
    "# your solution here\n",
    "np.zeros(5, dtype=np.float32)"
   ]
  },
  {
   "cell_type": "markdown",
   "metadata": {
    "deletable": true,
    "editable": true
   },
   "source": [
    "## Accessing and Slicing Arrays"
   ]
  },
  {
   "cell_type": "markdown",
   "metadata": {
    "deletable": true,
    "editable": true,
    "slideshow": {
     "slide_type": "slide"
    }
   },
   "source": [
    "Similarly to lists, items in arrays can be accessed individually:"
   ]
  },
  {
   "cell_type": "code",
   "execution_count": 23,
   "metadata": {
    "collapsed": false,
    "deletable": true,
    "editable": true
   },
   "outputs": [],
   "source": [
    "x = np.array([9,8,7])"
   ]
  },
  {
   "cell_type": "code",
   "execution_count": 24,
   "metadata": {
    "collapsed": false,
    "deletable": true,
    "editable": true,
    "slideshow": {
     "slide_type": "fragment"
    }
   },
   "outputs": [
    {
     "data": {
      "text/plain": [
       "9"
      ]
     },
     "execution_count": 24,
     "metadata": {},
     "output_type": "execute_result"
    }
   ],
   "source": [
    "x[0]"
   ]
  },
  {
   "cell_type": "code",
   "execution_count": 25,
   "metadata": {
    "collapsed": false,
    "deletable": true,
    "editable": true,
    "slideshow": {
     "slide_type": "fragment"
    }
   },
   "outputs": [
    {
     "data": {
      "text/plain": [
       "8"
      ]
     },
     "execution_count": 25,
     "metadata": {},
     "output_type": "execute_result"
    }
   ],
   "source": [
    "x[1]"
   ]
  },
  {
   "cell_type": "markdown",
   "metadata": {
    "deletable": true,
    "editable": true,
    "slideshow": {
     "slide_type": "slide"
    }
   },
   "source": [
    "and arrays can also be **sliced** by specifiying the start and end of the slice (where the last element is exclusive):"
   ]
  },
  {
   "cell_type": "code",
   "execution_count": 26,
   "metadata": {
    "collapsed": false,
    "deletable": true,
    "editable": true
   },
   "outputs": [],
   "source": [
    "y = np.arange(10)"
   ]
  },
  {
   "cell_type": "code",
   "execution_count": 27,
   "metadata": {
    "collapsed": false,
    "deletable": true,
    "editable": true,
    "slideshow": {
     "slide_type": "fragment"
    }
   },
   "outputs": [
    {
     "data": {
      "text/plain": [
       "array([0, 1, 2, 3, 4])"
      ]
     },
     "execution_count": 27,
     "metadata": {},
     "output_type": "execute_result"
    }
   ],
   "source": [
    "y[0:5]"
   ]
  },
  {
   "cell_type": "markdown",
   "metadata": {
    "deletable": true,
    "editable": true,
    "slideshow": {
     "slide_type": "fragment"
    }
   },
   "source": [
    "optionally specifying a step:"
   ]
  },
  {
   "cell_type": "code",
   "execution_count": 28,
   "metadata": {
    "collapsed": false,
    "deletable": true,
    "editable": true,
    "slideshow": {
     "slide_type": "fragment"
    }
   },
   "outputs": [
    {
     "data": {
      "text/plain": [
       "array([0, 2, 4, 6, 8])"
      ]
     },
     "execution_count": 28,
     "metadata": {},
     "output_type": "execute_result"
    }
   ],
   "source": [
    "y[0:10:2]"
   ]
  },
  {
   "cell_type": "markdown",
   "metadata": {
    "deletable": true,
    "editable": true,
    "slideshow": {
     "slide_type": "slide"
    }
   },
   "source": [
    "As for lists, the start, end, and step are all optional, and default to ``0``, ``len(array)``, and ``1`` respectively:"
   ]
  },
  {
   "cell_type": "code",
   "execution_count": 29,
   "metadata": {
    "collapsed": false,
    "deletable": true,
    "editable": true
   },
   "outputs": [
    {
     "data": {
      "text/plain": [
       "array([0, 1, 2, 3, 4])"
      ]
     },
     "execution_count": 29,
     "metadata": {},
     "output_type": "execute_result"
    }
   ],
   "source": [
    "y[:5]"
   ]
  },
  {
   "cell_type": "code",
   "execution_count": 30,
   "metadata": {
    "collapsed": false,
    "deletable": true,
    "editable": true
   },
   "outputs": [
    {
     "data": {
      "text/plain": [
       "array([0, 2, 4, 6, 8])"
      ]
     },
     "execution_count": 30,
     "metadata": {},
     "output_type": "execute_result"
    }
   ],
   "source": [
    "y[::2]"
   ]
  },
  {
   "cell_type": "markdown",
   "metadata": {
    "deletable": true,
    "editable": true
   },
   "source": [
    "## Exercise 2"
   ]
  },
  {
   "cell_type": "markdown",
   "metadata": {
    "deletable": true,
    "editable": true
   },
   "source": [
    "Given an array ``x`` with 10 elements, find the array ``dx`` containing 9 values where ``dx[i] = x[i+1] - x[i]``. Do this without loops!"
   ]
  },
  {
   "cell_type": "code",
   "execution_count": 31,
   "metadata": {
    "collapsed": false,
    "deletable": true,
    "editable": true
   },
   "outputs": [
    {
     "name": "stdout",
     "output_type": "stream",
     "text": [
      "[  0.   1.   4.   9.  16.  25.  36.  49.  64.  81.]\n",
      "[  1.   3.   5.   7.   9.  11.  13.  15.  17.]\n",
      "[  1.   3.   5.   7.   9.  11.  13.  15.  17.]\n"
     ]
    }
   ],
   "source": [
    "# your solution here\n",
    "x = np.linspace(0,9,10)**2.\n",
    "print(x)\n",
    "print(x[1:]-x[:9])\n",
    "print(x[1:]-x[:-1])"
   ]
  },
  {
   "cell_type": "markdown",
   "metadata": {
    "deletable": true,
    "editable": true
   },
   "source": [
    "## Multi-dimensional arrays"
   ]
  },
  {
   "cell_type": "markdown",
   "metadata": {
    "deletable": true,
    "editable": true,
    "slideshow": {
     "slide_type": "slide"
    }
   },
   "source": [
    "Numpy can be used for multi-dimensional arrays:"
   ]
  },
  {
   "cell_type": "code",
   "execution_count": 32,
   "metadata": {
    "collapsed": false,
    "deletable": true,
    "editable": true
   },
   "outputs": [],
   "source": [
    "x = np.array([[1.,2.],[3.,4.]])"
   ]
  },
  {
   "cell_type": "code",
   "execution_count": 33,
   "metadata": {
    "collapsed": false,
    "deletable": true,
    "editable": true,
    "slideshow": {
     "slide_type": "fragment"
    }
   },
   "outputs": [
    {
     "data": {
      "text/plain": [
       "2"
      ]
     },
     "execution_count": 33,
     "metadata": {},
     "output_type": "execute_result"
    }
   ],
   "source": [
    "x.ndim"
   ]
  },
  {
   "cell_type": "code",
   "execution_count": 34,
   "metadata": {
    "collapsed": false,
    "deletable": true,
    "editable": true,
    "slideshow": {
     "slide_type": "fragment"
    }
   },
   "outputs": [
    {
     "data": {
      "text/plain": [
       "(2, 2)"
      ]
     },
     "execution_count": 34,
     "metadata": {},
     "output_type": "execute_result"
    }
   ],
   "source": [
    "x.shape"
   ]
  },
  {
   "cell_type": "code",
   "execution_count": 35,
   "metadata": {
    "collapsed": false,
    "deletable": true,
    "editable": true,
    "slideshow": {
     "slide_type": "slide"
    }
   },
   "outputs": [],
   "source": [
    "y = np.ones([3,2,3])  # ones takes the shape of the array, not the values"
   ]
  },
  {
   "cell_type": "code",
   "execution_count": 36,
   "metadata": {
    "collapsed": false,
    "deletable": true,
    "editable": true,
    "slideshow": {
     "slide_type": "fragment"
    }
   },
   "outputs": [
    {
     "data": {
      "text/plain": [
       "array([[[ 1.,  1.,  1.],\n",
       "        [ 1.,  1.,  1.]],\n",
       "\n",
       "       [[ 1.,  1.,  1.],\n",
       "        [ 1.,  1.,  1.]],\n",
       "\n",
       "       [[ 1.,  1.,  1.],\n",
       "        [ 1.,  1.,  1.]]])"
      ]
     },
     "execution_count": 36,
     "metadata": {},
     "output_type": "execute_result"
    }
   ],
   "source": [
    "y"
   ]
  },
  {
   "cell_type": "code",
   "execution_count": 37,
   "metadata": {
    "collapsed": false,
    "deletable": true,
    "editable": true,
    "slideshow": {
     "slide_type": "fragment"
    }
   },
   "outputs": [
    {
     "data": {
      "text/plain": [
       "(3, 2, 3)"
      ]
     },
     "execution_count": 37,
     "metadata": {},
     "output_type": "execute_result"
    }
   ],
   "source": [
    "y.shape"
   ]
  },
  {
   "cell_type": "markdown",
   "metadata": {
    "deletable": true,
    "editable": true
   },
   "source": [
    "Using *np.linalg.inv()* we can calculate the **inverse** of a square array, interpreted as a matrix:"
   ]
  },
  {
   "cell_type": "code",
   "execution_count": 38,
   "metadata": {
    "collapsed": false,
    "deletable": true,
    "editable": true
   },
   "outputs": [],
   "source": [
    "a=np.array([[1,2],[3,4]])"
   ]
  },
  {
   "cell_type": "code",
   "execution_count": 39,
   "metadata": {
    "collapsed": false,
    "deletable": true,
    "editable": true
   },
   "outputs": [],
   "source": [
    "b=np.linalg.inv(a)"
   ]
  },
  {
   "cell_type": "code",
   "execution_count": 40,
   "metadata": {
    "collapsed": false,
    "deletable": true,
    "editable": true
   },
   "outputs": [
    {
     "data": {
      "text/plain": [
       "array([[  1.00000000e+00,   0.00000000e+00],\n",
       "       [  8.88178420e-16,   1.00000000e+00]])"
      ]
     },
     "execution_count": 40,
     "metadata": {},
     "output_type": "execute_result"
    }
   ],
   "source": [
    "np.dot(a,b)"
   ]
  },
  {
   "cell_type": "markdown",
   "metadata": {
    "deletable": true,
    "editable": true
   },
   "source": [
    "Example: The solution of the system of equations\n",
    "\n",
    "    x   + 2*y = 5\n",
    "    3*x + 4*y = 2\n",
    "    \n",
    "can be found using *np.dot()*, which yields the matrix product for 2-D arrays"
   ]
  },
  {
   "cell_type": "code",
   "execution_count": 41,
   "metadata": {
    "collapsed": false,
    "deletable": true,
    "editable": true
   },
   "outputs": [
    {
     "data": {
      "text/plain": [
       "array([-8. ,  6.5])"
      ]
     },
     "execution_count": 41,
     "metadata": {},
     "output_type": "execute_result"
    }
   ],
   "source": [
    "np.dot(np.linalg.inv(a),[5,2])"
   ]
  },
  {
   "cell_type": "markdown",
   "metadata": {
    "deletable": true,
    "editable": true,
    "slideshow": {
     "slide_type": "slide"
    }
   },
   "source": [
    "Multi-dimensional arrays can be sliced differently along different dimensions:"
   ]
  },
  {
   "cell_type": "code",
   "execution_count": 42,
   "metadata": {
    "collapsed": false,
    "deletable": true,
    "editable": true
   },
   "outputs": [],
   "source": [
    "z = np.ones([6,6,6])"
   ]
  },
  {
   "cell_type": "code",
   "execution_count": 43,
   "metadata": {
    "collapsed": false,
    "deletable": true,
    "editable": true,
    "slideshow": {
     "slide_type": "fragment"
    }
   },
   "outputs": [
    {
     "name": "stdout",
     "output_type": "stream",
     "text": [
      "[[[ 1.  1.  1.  1.  1.  1.]\n",
      "  [ 1.  1.  1.  1.  1.  1.]\n",
      "  [ 1.  1.  1.  1.  1.  1.]]\n",
      "\n",
      " [[ 1.  1.  1.  1.  1.  1.]\n",
      "  [ 1.  1.  1.  1.  1.  1.]\n",
      "  [ 1.  1.  1.  1.  1.  1.]]]\n"
     ]
    },
    {
     "data": {
      "text/plain": [
       "(2, 3, 6)"
      ]
     },
     "execution_count": 43,
     "metadata": {},
     "output_type": "execute_result"
    }
   ],
   "source": [
    "zz=z[::3, 1:4, :]\n",
    "\n",
    "print(zz)\n",
    "zz.shape"
   ]
  },
  {
   "cell_type": "markdown",
   "metadata": {
    "deletable": true,
    "editable": true
   },
   "source": [
    "## Functions"
   ]
  },
  {
   "cell_type": "markdown",
   "metadata": {
    "deletable": true,
    "editable": true,
    "slideshow": {
     "slide_type": "slide"
    }
   },
   "source": [
    "In addition to an array class, Numpy contains a number of **vectorized** functions, which means functions that can act on all the elements of an array, typically much faster than could be achieved by looping over the array."
   ]
  },
  {
   "cell_type": "markdown",
   "metadata": {
    "deletable": true,
    "editable": true,
    "slideshow": {
     "slide_type": "slide"
    }
   },
   "source": [
    "For example:"
   ]
  },
  {
   "cell_type": "code",
   "execution_count": 44,
   "metadata": {
    "collapsed": false,
    "deletable": true,
    "editable": true
   },
   "outputs": [],
   "source": [
    "theta = np.linspace(0., 2. * np.pi, 10)"
   ]
  },
  {
   "cell_type": "code",
   "execution_count": 45,
   "metadata": {
    "collapsed": false,
    "deletable": true,
    "editable": true,
    "slideshow": {
     "slide_type": "fragment"
    }
   },
   "outputs": [
    {
     "data": {
      "text/plain": [
       "array([ 0.        ,  0.6981317 ,  1.3962634 ,  2.0943951 ,  2.7925268 ,\n",
       "        3.4906585 ,  4.1887902 ,  4.88692191,  5.58505361,  6.28318531])"
      ]
     },
     "execution_count": 45,
     "metadata": {},
     "output_type": "execute_result"
    }
   ],
   "source": [
    "theta"
   ]
  },
  {
   "cell_type": "code",
   "execution_count": 46,
   "metadata": {
    "collapsed": false,
    "deletable": true,
    "editable": true,
    "slideshow": {
     "slide_type": "fragment"
    }
   },
   "outputs": [
    {
     "data": {
      "text/plain": [
       "array([  0.00000000e+00,   6.42787610e-01,   9.84807753e-01,\n",
       "         8.66025404e-01,   3.42020143e-01,  -3.42020143e-01,\n",
       "        -8.66025404e-01,  -9.84807753e-01,  -6.42787610e-01,\n",
       "        -2.44929360e-16])"
      ]
     },
     "execution_count": 46,
     "metadata": {},
     "output_type": "execute_result"
    }
   ],
   "source": [
    "np.sin(theta)"
   ]
  },
  {
   "cell_type": "markdown",
   "metadata": {
    "deletable": true,
    "editable": true,
    "slideshow": {
     "slide_type": "slide"
    }
   },
   "source": [
    "Another useful package is the ``np.random`` sub-package, which can be used to genenerate random numbers fast:"
   ]
  },
  {
   "cell_type": "code",
   "execution_count": 47,
   "metadata": {
    "collapsed": false,
    "deletable": true,
    "editable": true
   },
   "outputs": [
    {
     "data": {
      "text/plain": [
       "array([ 0.63170443,  0.33734632,  0.71756337,  0.61737608,  0.46075916,\n",
       "        0.12305235,  0.79364448,  0.5894965 ,  0.27379061,  0.75123217])"
      ]
     },
     "execution_count": 47,
     "metadata": {},
     "output_type": "execute_result"
    }
   ],
   "source": [
    "# uniform distribution between 0 and 1\n",
    "np.random.random(10)"
   ]
  },
  {
   "cell_type": "code",
   "execution_count": 48,
   "metadata": {
    "collapsed": false,
    "deletable": true,
    "editable": true,
    "slideshow": {
     "slide_type": "fragment"
    }
   },
   "outputs": [
    {
     "data": {
      "text/plain": [
       "array([ 1.4528187 ,  3.09083909,  2.96207144,  1.77680055,  4.61256275,\n",
       "        2.48456043,  3.05880556,  3.99592678,  4.7860692 ,  3.44160976])"
      ]
     },
     "execution_count": 48,
     "metadata": {},
     "output_type": "execute_result"
    }
   ],
   "source": [
    "# 10 values from a gaussian distribution with mean 3 and sigma 1\n",
    "np.random.normal(3., 1., 10)"
   ]
  },
  {
   "cell_type": "markdown",
   "metadata": {
    "deletable": true,
    "editable": true,
    "slideshow": {
     "slide_type": "slide"
    }
   },
   "source": [
    "Another very useful function in Numpy is [numpy.loadtxt](http://docs.scipy.org/doc/numpy/reference/generated/numpy.loadtxt.html) which makes it easy to read in data from column-based data. For example, given the following file:"
   ]
  },
  {
   "cell_type": "code",
   "execution_count": 49,
   "metadata": {
    "collapsed": false,
    "deletable": true,
    "editable": true
   },
   "outputs": [
    {
     "name": "stdout",
     "output_type": "stream",
     "text": [
      "Time Gx Gy Gz\r\n",
      "s m/s^2 m/s^2 m/s^2\r\n",
      "0 3.62E-04 3.62E-04 9.653301\r\n",
      "0.2 3.62E-04 3.62E-04 9.806528\r\n",
      "0.403 3.62E-04 -0.152865 9.806528\r\n",
      "0.605 3.62E-04 -0.152865 9.806528\r\n",
      "0.806 3.62E-04 -0.152865 9.806528\r\n",
      "1.008 3.62E-04 3.62E-04 9.806528\r\n",
      "1.208 3.62E-04 3.62E-04 9.653301\r\n",
      "1.409 -0.152865 -0.459319 9.500074\r\n",
      "1.61 3.62E-04 0.306816 10.112982\r\n",
      "1.81 -0.152865 -0.459319 9.500074\r\n",
      "2.011 3.62E-04 1.072951 9.500074\r\n",
      "2.212 3.62E-04 -1.685135 10.266209\r\n",
      "2.412 -0.152865 -4.136767 10.112982\r\n",
      "2.412 -0.152865 -3.523859 9.959755\r\n",
      "2.612 -0.152865 -3.217405 10.266209\r\n",
      "2.814 -0.152865 -3.064178 9.653301\r\n",
      "3.014 -0.152865 -2.910951 10.266209\r\n",
      "3.215 3.62E-04 -2.757724 9.806528\r\n",
      "3.416 3.62E-04 -2.910951 10.112982\r\n",
      "3.616 3.62E-04 -3.830313 9.806528\r\n",
      "3.817 3.62E-04 -3.830313 10.112982\r\n",
      "4.017 3.62E-04 -3.677086 10.112982\r\n",
      "4.217 -0.152865 -3.523859 9.806528\r\n",
      "4.418 -0.152865 -3.523859 9.959755\r\n",
      "4.618 3.62E-04 -4.289994 10.112982\r\n",
      "4.819 3.62E-04 -4.136767 10.419436\r\n",
      "4.819 3.62E-04 -4.136767 10.112982\r\n",
      "5.019 3.62E-04 -4.289994 9.959755\r\n",
      "5.222 -0.152865 -4.136767 10.112982\r\n",
      "5.423 -0.152865 -4.136767 10.419436\r\n",
      "5.624 0.153589 -3.98354 9.959755\r\n",
      "5.825 0.153589 -3.677086 10.112982\r\n",
      "6.025 -0.152865 -3.370632 9.806528\r\n",
      "6.225 0.153589 -3.370632 10.72589\r\n",
      "6.426 0.460043 -2.910951 9.959755\r\n",
      "6.626 0.61327 -2.144816 9.653301\r\n",
      "6.828 0.460043 -1.685135 9.653301\r\n",
      "7.029 0.153589 -1.378681 10.266209\r\n",
      "7.229 3.62E-04 -0.919 9.653301\r\n",
      "7.229 0.460043 -0.765773 9.959755\r\n",
      "7.43 0.460043 -0.765773 9.959755\r\n",
      "7.63 0.306816 -0.765773 9.653301\r\n",
      "7.831 0.306816 -0.765773 9.806528\r\n",
      "8.032 1.072951 -0.765773 9.653301\r\n",
      "8.233 0.766497 -0.612546 9.653301\r\n",
      "8.433 0.460043 -0.765773 9.19362\r\n",
      "8.633 0.460043 -0.612546 9.806528\r\n",
      "8.833 0.61327 -0.765773 9.959755\r\n",
      "9.033 0.460043 -0.612546 9.959755\r\n",
      "9.033 0.153589 -0.612546 9.959755\r\n",
      "9.234 3.62E-04 -0.612546 9.959755\r\n",
      "9.435 0.153589 -0.612546 9.806528\r\n",
      "9.636 0.306816 -0.765773 9.959755\r\n",
      "9.837 0.153589 -0.765773 9.959755\r\n",
      "10.038 0.460043 -0.765773 9.959755\r\n",
      "10.239 0.460043 -0.612546 9.959755\r\n",
      "10.439 0.306816 -0.765773 9.500074\r\n",
      "10.639 0.460043 -0.612546 9.806528\r\n",
      "10.839 0.460043 -0.152865 9.806528\r\n",
      "11.04 0.61327 0.153589 9.959755\r\n",
      "11.241 0.61327 0.460043 9.653301\r\n",
      "11.442 0.61327 0.460043 9.500074\r\n",
      "11.642 0.766497 0.61327 9.500074\r\n",
      "11.842 0.61327 0.766497 9.653301\r\n",
      "12.042 0.61327 0.766497 9.500074\r\n",
      "12.243 0.460043 0.766497 9.500074\r\n",
      "12.443 0.460043 0.919724 9.806528\r\n",
      "12.443 0.460043 0.766497 9.653301\r\n",
      "12.643 0.61327 0.766497 9.653301\r\n",
      "12.844 0.61327 0.766497 9.346847\r\n",
      "13.045 0.61327 0.766497 9.500074\r\n",
      "13.245 0.766497 0.766497 9.959755\r\n",
      "13.447 0.61327 1.072951 9.653301\r\n",
      "13.647 0.61327 1.072951 9.959755\r\n",
      "13.847 0.919724 0.61327 9.346847\r\n",
      "14.047 0.919724 -0.152865 9.500074\r\n",
      "14.248 0.61327 -0.306092 9.806528\r\n",
      "14.448 0.460043 -0.306092 9.806528\r\n",
      "14.648 0.61327 -0.306092 9.806528\r\n",
      "14.848 0.61327 0.61327 9.500074\r\n",
      "14.848 0.766497 1.226178 9.653301\r\n",
      "15.049 0.61327 1.226178 9.500074\r\n",
      "15.25 0.766497 1.072951 9.959755\r\n",
      "15.451 0.766497 1.226178 9.653301\r\n",
      "15.651 0.919724 1.226178 9.806528\r\n",
      "15.852 0.766497 1.379405 9.500074\r\n",
      "16.052 0.766497 1.379405 9.653301\r\n",
      "16.254 0.919724 1.379405 9.806528\r\n",
      "16.454 0.766497 1.379405 9.19362\r\n",
      "16.655 0.766497 1.379405 9.500074\r\n",
      "16.855 0.61327 1.379405 9.806528\r\n",
      "17.055 0.460043 1.379405 9.653301\r\n",
      "17.255 0.766497 1.379405 9.500074\r\n",
      "17.255 0.919724 1.379405 9.500074\r\n",
      "17.455 0.766497 1.226178 9.346847\r\n",
      "17.656 1.379405 1.226178 9.346847\r\n",
      "17.856 1.685859 1.226178 9.346847\r\n",
      "18.056 1.532632 1.226178 9.500074\r\n",
      "18.457 1.992313 1.226178 8.887166\r\n",
      "18.457 3.218129 1.226178 9.959755\r\n",
      "18.858 3.371356 1.072951 9.959755\r\n",
      "19.059 3.371356 1.072951 9.500074\r\n",
      "19.059 3.524583 1.072951 9.500074\r\n",
      "19.259 3.831037 1.072951 9.500074\r\n",
      "19.46 3.524583 0.919724 9.500074\r\n",
      "19.661 3.831037 1.072951 9.806528\r\n",
      "19.861 3.064902 0.919724 9.040393\r\n",
      "20.062 2.911675 1.072951 9.500074\r\n",
      "20.262 0.919724 1.379405 9.806528\r\n",
      "20.463 -0.919 1.226178 9.500074\r\n",
      "20.663 -1.225454 1.072951 9.500074\r\n",
      "20.864 -1.072227 1.072951 9.346847\r\n",
      "21.065 -1.378681 1.072951 9.500074\r\n",
      "21.265 -2.757724 0.61327 9.040393\r\n",
      "21.467 -3.677086 0.306816 9.806528\r\n",
      "21.467 -3.677086 0.153589 9.500074\r\n",
      "21.667 -4.136767 3.62E-04 9.806528\r\n",
      "21.867 -4.136767 -0.152865 9.500074\r\n",
      "22.067 -4.136767 -0.152865 9.653301\r\n",
      "22.268 -3.677086 3.62E-04 9.653301\r\n",
      "22.469 -3.523859 -0.152865 9.653301\r\n",
      "22.67 -3.370632 -0.306092 9.346847\r\n",
      "22.87 -3.064178 -0.459319 9.500074\r\n",
      "23.071 -3.370632 -0.612546 10.112982\r\n",
      "23.272 -3.523859 -0.612546 9.500074\r\n",
      "23.474 -3.370632 -0.765773 9.653301\r\n",
      "23.674 -3.217405 -0.919 9.806528\r\n",
      "23.674 -3.677086 -1.225454 9.500074\r\n",
      "23.877 -3.523859 -1.072227 10.112982\r\n",
      "24.077 -3.064178 -1.072227 9.500074\r\n",
      "24.277 -3.98354 -0.919 9.653301\r\n",
      "24.477 -3.523859 -0.459319 9.653301\r\n",
      "24.677 -3.370632 -0.306092 9.500074\r\n",
      "24.879 -3.830313 -0.306092 9.959755\r\n",
      "25.08 -3.830313 -0.152865 9.500074\r\n",
      "25.28 -3.677086 -0.152865 10.112982\r\n",
      "25.48 -3.370632 3.62E-04 9.500074\r\n",
      "25.68 -3.523859 -0.152865 9.346847\r\n",
      "25.88 -3.677086 -0.152865 9.959755\r\n",
      "26.081 -3.677086 -0.152865 9.959755\r\n",
      "26.283 -3.370632 -0.306092 9.653301\r\n",
      "26.485 -3.370632 -0.306092 9.806528\r\n",
      "26.686 -3.677086 -0.306092 9.653301\r\n",
      "26.886 -3.677086 -0.459319 9.500074\r\n",
      "27.086 -3.830313 -0.459319 10.112982\r\n",
      "27.286 -3.677086 -0.612546 9.500074\r\n",
      "27.487 -3.830313 -0.765773 10.112982\r\n",
      "27.688 -3.677086 -0.765773 9.346847\r\n",
      "27.888 -3.523859 -0.612546 10.112982\r\n",
      "27.888 -3.830313 -0.612546 9.653301\r\n",
      "28.09 -3.370632 -0.919 9.959755\r\n",
      "28.494 -3.217405 -0.919 10.419436\r\n",
      "28.494 -3.064178 -0.919 9.19362\r\n",
      "28.694 -3.830313 -1.072227 10.572663\r\n",
      "28.895 -3.064178 -0.919 9.19362\r\n",
      "29.096 -3.370632 -0.765773 10.266209\r\n",
      "29.297 -3.064178 -0.919 9.653301\r\n",
      "29.497 -2.757724 -0.765773 9.959755\r\n",
      "29.697 -2.144816 -0.765773 9.959755\r\n",
      "29.897 -1.685135 -0.459319 9.500074\r\n",
      "30.098 -0.459319 -0.459319 10.112982\r\n",
      "30.298 0.306816 -0.306092 9.806528\r\n",
      "30.298 0.766497 -0.459319 9.806528\r\n",
      "30.499 2.14554 -1.225454 9.806528\r\n",
      "30.7 2.911675 -1.378681 9.653301\r\n",
      "30.901 3.524583 -1.378681 10.112982\r\n",
      "31.103 3.524583 -1.991589 9.500074\r\n",
      "31.303 3.984264 -2.604497 9.959755\r\n",
      "31.503 3.524583 -2.757724 9.500074\r\n",
      "31.703 3.524583 -2.604497 9.653301\r\n",
      "31.904 2.758448 -2.604497 9.959755\r\n",
      "32.105 2.298767 -2.757724 9.959755\r\n",
      "32.305 1.379405 -3.064178 10.419436\r\n",
      "32.505 0.61327 -3.064178 9.19362\r\n",
      "32.706 0.460043 -2.910951 9.959755\r\n",
      "32.906 0.460043 -2.910951 9.959755\r\n",
      "33.106 3.62E-04 -2.910951 10.266209\r\n",
      "33.307 3.62E-04 -3.064178 9.959755\r\n",
      "33.308 0.153589 -3.064178 10.112982\r\n",
      "33.508 3.62E-04 -2.910951 9.500074\r\n",
      "33.709 0.153589 -2.757724 10.419436\r\n",
      "33.911 0.306816 -2.757724 9.346847\r\n",
      "34.114 3.62E-04 -2.45127 10.112982\r\n",
      "34.314 0.153589 -2.45127 9.653301\r\n",
      "34.515 3.62E-04 -2.144816 10.112982\r\n",
      "34.716 0.153589 -1.685135 10.572663\r\n",
      "34.918 3.62E-04 -1.225454 9.346847\r\n",
      "35.118 0.153589 -0.919 9.959755\r\n",
      "35.319 0.306816 -0.919 9.959755\r\n",
      "35.52 0.306816 -0.765773 9.806528\r\n",
      "35.52 0.460043 -0.765773 9.346847\r\n",
      "35.72 0.153589 -0.612546 9.806528\r\n",
      "35.923 0.306816 -0.459319 9.959755\r\n",
      "36.124 0.153589 -0.919 10.419436\r\n",
      "36.324 0.153589 -0.152865 9.653301\r\n",
      "36.524 3.62E-04 -0.152865 9.806528\r\n",
      "36.725 0.153589 -0.152865 10.112982\r\n",
      "36.925 3.62E-04 -0.152865 10.266209\r\n",
      "37.126 0.153589 -0.152865 9.806528\r\n",
      "37.328 0.153589 -0.152865 9.653301\r\n",
      "37.528 0.306816 -0.152865 9.959755\r\n",
      "37.728 0.153589 -0.152865 9.500074\r\n",
      "37.929 0.306816 -0.152865 9.806528\r\n",
      "38.13 0.153589 -0.152865 9.500074\r\n",
      "38.331 0.306816 3.62E-04 9.806528\r\n",
      "38.531 0.153589 -0.152865 9.806528\r\n",
      "38.531 0.153589 -0.152865 9.653301\r\n",
      "38.732 0.153589 -0.152865 9.500074\r\n",
      "38.932 0.153589 -0.152865 9.806528\r\n",
      "39.133 0.306816 -0.152865 9.806528\r\n",
      "39.335 3.62E-04 3.62E-04 9.346847\r\n",
      "39.535 0.153589 0.153589 9.500074\r\n",
      "39.736 0.153589 0.153589 9.500074\r\n",
      "39.936 0.153589 0.153589 10.112982\r\n",
      "40.137 -0.152865 0.306816 10.112982\r\n",
      "40.338 3.62E-04 0.766497 9.346847\r\n",
      "40.539 0.153589 0.919724 9.346847\r\n",
      "40.739 -0.152865 1.226178 9.500074\r\n",
      "40.739 3.62E-04 1.226178 9.653301\r\n",
      "40.941 0.153589 1.226178 9.346847\r\n",
      "41.141 0.153589 1.379405 9.500074\r\n",
      "41.341 0.153589 0.766497 9.653301\r\n",
      "41.542 0.460043 -0.306092 9.653301\r\n",
      "41.744 0.153589 -0.306092 10.112982\r\n",
      "41.944 0.306816 -0.459319 10.112982\r\n",
      "42.146 0.153589 0.460043 10.112982\r\n",
      "42.347 0.153589 1.685859 8.887166\r\n",
      "42.548 3.62E-04 1.685859 8.887166\r\n",
      "42.749 3.62E-04 1.839086 9.806528\r\n",
      "42.95 0.153589 1.839086 9.806528\r",
      "\r\n",
      "43.15 3.62E-04 1.839086 9.806528\r\n",
      "43.15 3.62E-04 1.839086 9.346847\r\n",
      "43.351 0.306816 1.992313 9.346847\r\n",
      "43.551 0.153589 1.992313 9.653301\r\n",
      "43.751 0.153589 1.992313 10.112982\r\n",
      "43.951 0.153589 1.992313 9.806528\r\n",
      "44.152 3.62E-04 2.14554 9.806528\r\n",
      "44.353 -0.152865 1.839086 8.580712\r\n",
      "44.554 0.306816 1.839086 9.19362\r\n",
      "44.754 0.306816 2.14554 9.346847\r\n",
      "44.955 0.306816 2.298767 9.346847\r\n",
      "45.155 0.460043 1.839086 9.806528\r\n",
      "45.356 0.460043 0.460043 9.653301\r\n",
      "45.556 0.306816 -0.306092 9.653301\r\n",
      "45.757 0.306816 -0.152865 9.959755\r\n",
      "45.957 0.460043 -0.459319 9.500074\r\n",
      "46.158 0.61327 2.14554 9.500074\r\n",
      "46.158 0.306816 2.911675 9.500074\r\n",
      "46.358 0.61327 2.911675 9.040393\r\n",
      "46.558 0.460043 3.218129 9.806528\r\n",
      "46.759 0.306816 3.064902 9.500074\r\n",
      "46.96 0.460043 2.911675 9.500074\r\n",
      "47.161 3.62E-04 3.831037 9.19362\r\n",
      "47.362 0.306816 3.831037 9.19362\r\n",
      "47.563 0.306816 3.524583 9.040393\r\n",
      "47.764 3.62E-04 3.524583 9.19362\r\n",
      "47.965 3.62E-04 3.218129 9.653301\r\n",
      "48.166 3.62E-04 3.064902 9.346847\r\n",
      "48.366 0.153589 2.911675 9.500074\r\n",
      "48.567 3.62E-04 2.911675 9.19362\r\n",
      "48.567 0.153589 3.67781 9.346847\r\n",
      "48.768 0.153589 2.911675 9.500074\r\n",
      "48.969 0.306816 0.919724 9.653301\r\n",
      "49.169 0.306816 3.62E-04 9.806528\r\n",
      "49.57 0.306816 -0.152865 9.653301\r\n",
      "49.97 0.306816 -0.152865 9.806528\r\n",
      "50.17 0.306816 -0.152865 9.653301\r\n",
      "50.988 0.306816 -0.152865 9.653301\r\n",
      "51.188 0.306816 -0.152865 9.653301\r\n",
      "51.388 0.306816 -0.306092 9.806528\r\n",
      "51.588 0.306816 3.62E-04 9.959755\r\n",
      "51.788 0.306816 -0.306092 9.653301\r\n",
      "51.988 0.306816 0.306816 9.653301\r\n"
     ]
    }
   ],
   "source": [
    "%cat data/autofahrt.txt"
   ]
  },
  {
   "cell_type": "markdown",
   "metadata": {
    "deletable": true,
    "editable": true,
    "slideshow": {
     "slide_type": "slide"
    }
   },
   "source": [
    "We can either read it in using a single multi-dimensional array:"
   ]
  },
  {
   "cell_type": "code",
   "execution_count": 50,
   "metadata": {
    "collapsed": false,
    "deletable": true,
    "editable": true
   },
   "outputs": [
    {
     "data": {
      "text/plain": [
       "array([[  0.00000000e+00,   3.62000000e-04,   3.62000000e-04,\n",
       "          9.65330100e+00],\n",
       "       [  2.00000000e-01,   3.62000000e-04,   3.62000000e-04,\n",
       "          9.80652800e+00],\n",
       "       [  4.03000000e-01,   3.62000000e-04,  -1.52865000e-01,\n",
       "          9.80652800e+00],\n",
       "       ..., \n",
       "       [  5.15880000e+01,   3.06816000e-01,   3.62000000e-04,\n",
       "          9.95975500e+00],\n",
       "       [  5.17880000e+01,   3.06816000e-01,  -3.06092000e-01,\n",
       "          9.65330100e+00],\n",
       "       [  5.19880000e+01,   3.06816000e-01,   3.06816000e-01,\n",
       "          9.65330100e+00]])"
      ]
     },
     "execution_count": 50,
     "metadata": {},
     "output_type": "execute_result"
    }
   ],
   "source": [
    "data = np.loadtxt('data/autofahrt_nohd.txt')\n",
    "data"
   ]
  },
  {
   "cell_type": "markdown",
   "metadata": {
    "deletable": true,
    "editable": true,
    "slideshow": {
     "slide_type": "slide"
    }
   },
   "source": [
    "Or we can read the individual columns:"
   ]
  },
  {
   "cell_type": "code",
   "execution_count": 5,
   "metadata": {
    "collapsed": false,
    "deletable": true,
    "editable": true
   },
   "outputs": [
    {
     "data": {
      "text/plain": [
       "array([  3.62000000e-04,   3.62000000e-04,   3.62000000e-04,\n",
       "         3.62000000e-04,   3.62000000e-04,   3.62000000e-04,\n",
       "         3.62000000e-04,  -1.52865000e-01,   3.62000000e-04,\n",
       "        -1.52865000e-01,   3.62000000e-04,   3.62000000e-04,\n",
       "        -1.52865000e-01,  -1.52865000e-01,  -1.52865000e-01,\n",
       "        -1.52865000e-01,  -1.52865000e-01,   3.62000000e-04,\n",
       "         3.62000000e-04,   3.62000000e-04,   3.62000000e-04,\n",
       "         3.62000000e-04,  -1.52865000e-01,  -1.52865000e-01,\n",
       "         3.62000000e-04,   3.62000000e-04,   3.62000000e-04,\n",
       "         3.62000000e-04,  -1.52865000e-01,  -1.52865000e-01,\n",
       "         1.53589000e-01,   1.53589000e-01,  -1.52865000e-01,\n",
       "         1.53589000e-01,   4.60043000e-01,   6.13270000e-01,\n",
       "         4.60043000e-01,   1.53589000e-01,   3.62000000e-04,\n",
       "         4.60043000e-01,   4.60043000e-01,   3.06816000e-01,\n",
       "         3.06816000e-01,   1.07295100e+00,   7.66497000e-01,\n",
       "         4.60043000e-01,   4.60043000e-01,   6.13270000e-01,\n",
       "         4.60043000e-01,   1.53589000e-01,   3.62000000e-04,\n",
       "         1.53589000e-01,   3.06816000e-01,   1.53589000e-01,\n",
       "         4.60043000e-01,   4.60043000e-01,   3.06816000e-01,\n",
       "         4.60043000e-01,   4.60043000e-01,   6.13270000e-01,\n",
       "         6.13270000e-01,   6.13270000e-01,   7.66497000e-01,\n",
       "         6.13270000e-01,   6.13270000e-01,   4.60043000e-01,\n",
       "         4.60043000e-01,   4.60043000e-01,   6.13270000e-01,\n",
       "         6.13270000e-01,   6.13270000e-01,   7.66497000e-01,\n",
       "         6.13270000e-01,   6.13270000e-01,   9.19724000e-01,\n",
       "         9.19724000e-01,   6.13270000e-01,   4.60043000e-01,\n",
       "         6.13270000e-01,   6.13270000e-01,   7.66497000e-01,\n",
       "         6.13270000e-01,   7.66497000e-01,   7.66497000e-01,\n",
       "         9.19724000e-01,   7.66497000e-01,   7.66497000e-01,\n",
       "         9.19724000e-01,   7.66497000e-01,   7.66497000e-01,\n",
       "         6.13270000e-01,   4.60043000e-01,   7.66497000e-01,\n",
       "         9.19724000e-01,   7.66497000e-01,   1.37940500e+00,\n",
       "         1.68585900e+00,   1.53263200e+00,   1.99231300e+00,\n",
       "         3.21812900e+00,   3.37135600e+00,   3.37135600e+00,\n",
       "         3.52458300e+00,   3.83103700e+00,   3.52458300e+00,\n",
       "         3.83103700e+00,   3.06490200e+00,   2.91167500e+00,\n",
       "         9.19724000e-01,  -9.19000000e-01,  -1.22545400e+00,\n",
       "        -1.07222700e+00,  -1.37868100e+00,  -2.75772400e+00,\n",
       "        -3.67708600e+00,  -3.67708600e+00,  -4.13676700e+00,\n",
       "        -4.13676700e+00,  -4.13676700e+00,  -3.67708600e+00,\n",
       "        -3.52385900e+00,  -3.37063200e+00,  -3.06417800e+00,\n",
       "        -3.37063200e+00,  -3.52385900e+00,  -3.37063200e+00,\n",
       "        -3.21740500e+00,  -3.67708600e+00,  -3.52385900e+00,\n",
       "        -3.06417800e+00,  -3.98354000e+00,  -3.52385900e+00,\n",
       "        -3.37063200e+00,  -3.83031300e+00,  -3.83031300e+00,\n",
       "        -3.67708600e+00,  -3.37063200e+00,  -3.52385900e+00,\n",
       "        -3.67708600e+00,  -3.67708600e+00,  -3.37063200e+00,\n",
       "        -3.37063200e+00,  -3.67708600e+00,  -3.67708600e+00,\n",
       "        -3.83031300e+00,  -3.67708600e+00,  -3.83031300e+00,\n",
       "        -3.67708600e+00,  -3.52385900e+00,  -3.83031300e+00,\n",
       "        -3.37063200e+00,  -3.21740500e+00,  -3.06417800e+00,\n",
       "        -3.83031300e+00,  -3.06417800e+00,  -3.37063200e+00,\n",
       "        -3.06417800e+00,  -2.75772400e+00,  -2.14481600e+00,\n",
       "        -1.68513500e+00,  -4.59319000e-01,   3.06816000e-01,\n",
       "         7.66497000e-01,   2.14554000e+00,   2.91167500e+00,\n",
       "         3.52458300e+00,   3.52458300e+00,   3.98426400e+00,\n",
       "         3.52458300e+00,   3.52458300e+00,   2.75844800e+00,\n",
       "         2.29876700e+00,   1.37940500e+00,   6.13270000e-01,\n",
       "         4.60043000e-01,   4.60043000e-01,   3.62000000e-04,\n",
       "         3.62000000e-04,   1.53589000e-01,   3.62000000e-04,\n",
       "         1.53589000e-01,   3.06816000e-01,   3.62000000e-04,\n",
       "         1.53589000e-01,   3.62000000e-04,   1.53589000e-01,\n",
       "         3.62000000e-04,   1.53589000e-01,   3.06816000e-01,\n",
       "         3.06816000e-01,   4.60043000e-01,   1.53589000e-01,\n",
       "         3.06816000e-01,   1.53589000e-01,   1.53589000e-01,\n",
       "         3.62000000e-04,   1.53589000e-01,   3.62000000e-04,\n",
       "         1.53589000e-01,   1.53589000e-01,   3.06816000e-01,\n",
       "         1.53589000e-01,   3.06816000e-01,   1.53589000e-01,\n",
       "         3.06816000e-01,   1.53589000e-01,   1.53589000e-01,\n",
       "         1.53589000e-01,   1.53589000e-01,   3.06816000e-01,\n",
       "         3.62000000e-04,   1.53589000e-01,   1.53589000e-01,\n",
       "         1.53589000e-01,  -1.52865000e-01,   3.62000000e-04,\n",
       "         1.53589000e-01,  -1.52865000e-01,   3.62000000e-04,\n",
       "         1.53589000e-01,   1.53589000e-01,   1.53589000e-01,\n",
       "         4.60043000e-01,   1.53589000e-01,   3.06816000e-01,\n",
       "         1.53589000e-01,   1.53589000e-01,   3.62000000e-04,\n",
       "         3.62000000e-04,   1.53589000e-01,   3.62000000e-04,\n",
       "         3.62000000e-04,   3.06816000e-01,   1.53589000e-01,\n",
       "         1.53589000e-01,   1.53589000e-01,   3.62000000e-04,\n",
       "        -1.52865000e-01,   3.06816000e-01,   3.06816000e-01,\n",
       "         3.06816000e-01,   4.60043000e-01,   4.60043000e-01,\n",
       "         3.06816000e-01,   3.06816000e-01,   4.60043000e-01,\n",
       "         6.13270000e-01,   3.06816000e-01,   6.13270000e-01,\n",
       "         4.60043000e-01,   3.06816000e-01,   4.60043000e-01,\n",
       "         3.62000000e-04,   3.06816000e-01,   3.06816000e-01,\n",
       "         3.62000000e-04,   3.62000000e-04,   3.62000000e-04,\n",
       "         1.53589000e-01,   3.62000000e-04,   1.53589000e-01,\n",
       "         1.53589000e-01,   3.06816000e-01,   3.06816000e-01,\n",
       "         3.06816000e-01,   3.06816000e-01,   3.06816000e-01,\n",
       "         3.06816000e-01,   3.06816000e-01,   3.06816000e-01,\n",
       "         3.06816000e-01,   3.06816000e-01,   3.06816000e-01])"
      ]
     },
     "execution_count": 5,
     "metadata": {},
     "output_type": "execute_result"
    }
   ],
   "source": [
    "time,ax,ay,az = np.loadtxt('autofahrt_nohd.txt', unpack=True)\n",
    "ax"
   ]
  },
  {
   "cell_type": "code",
   "execution_count": 52,
   "metadata": {
    "collapsed": false,
    "deletable": true,
    "editable": true
   },
   "outputs": [
    {
     "data": {
      "text/plain": [
       "array([ 0.   ,  0.2  ,  0.403,  0.605,  0.806,  1.008,  1.208,  1.409,\n",
       "        1.61 ,  1.81 ])"
      ]
     },
     "execution_count": 52,
     "metadata": {},
     "output_type": "execute_result"
    }
   ],
   "source": [
    "time[:10]"
   ]
  },
  {
   "cell_type": "code",
   "execution_count": 53,
   "metadata": {
    "collapsed": false,
    "deletable": true,
    "editable": true
   },
   "outputs": [
    {
     "data": {
      "text/plain": [
       "array([ 0.000362,  0.000362,  0.000362,  0.000362,  0.000362,  0.000362,\n",
       "        0.000362, -0.152865,  0.000362, -0.152865])"
      ]
     },
     "execution_count": 53,
     "metadata": {},
     "output_type": "execute_result"
    }
   ],
   "source": [
    "ax[:10]"
   ]
  },
  {
   "cell_type": "markdown",
   "metadata": {
    "deletable": true,
    "editable": true
   },
   "source": [
    "There are additional options to **skip header rows**, **ignore comments**, **define delimiters**, or **read only certain columns**. See the documentation for more details."
   ]
  },
  {
   "cell_type": "markdown",
   "metadata": {
    "deletable": true,
    "editable": true
   },
   "source": [
    "## Masking"
   ]
  },
  {
   "cell_type": "markdown",
   "metadata": {
    "deletable": true,
    "editable": true,
    "slideshow": {
     "slide_type": "slide"
    }
   },
   "source": [
    "The index notation ``[...]`` is not limited to single element indexing, or multiple element slicing, but one can also pass a discrete list/array of indices:"
   ]
  },
  {
   "cell_type": "code",
   "execution_count": 54,
   "metadata": {
    "collapsed": false,
    "deletable": true,
    "editable": true
   },
   "outputs": [
    {
     "name": "stdout",
     "output_type": "stream",
     "text": [
      "(array([ 1,  2,  3,  4,  7,  8,  9, 11, 12]),)\n",
      "[False  True  True  True  True False False  True  True  True False  True\n",
      "  True False]\n",
      "[6 4 7 9 5 6 7 4 4]\n",
      "[6 4 7 9 5 6 7 4 4]\n"
     ]
    }
   ],
   "source": [
    "x = np.array([1,6,4,7,9,3,1,5,6,7,3,4,4,3])\n",
    "a = np.where(x > 3)\n",
    "print(a)\n",
    "print(x>3)\n",
    "print(x[a])\n",
    "print(x[x>3])"
   ]
  },
  {
   "cell_type": "markdown",
   "metadata": {
    "deletable": true,
    "editable": true
   },
   "source": [
    "which is returning a new array composed of elements 1, 2, 4, etc from the original array."
   ]
  },
  {
   "cell_type": "markdown",
   "metadata": {
    "deletable": true,
    "editable": true,
    "slideshow": {
     "slide_type": "slide"
    }
   },
   "source": [
    "Alternatively, one can also pass a boolean array of ``True/False`` values, called a **mask**, indicating which items to keep:"
   ]
  },
  {
   "cell_type": "code",
   "execution_count": 55,
   "metadata": {
    "collapsed": false,
    "deletable": true,
    "editable": true
   },
   "outputs": [
    {
     "name": "stdout",
     "output_type": "stream",
     "text": [
      "[1 6 4 7 9 3 1 5 6 7 3 4 4 3]\n",
      "[1 7 9 3 6 7 3 3]\n"
     ]
    }
   ],
   "source": [
    "mask = np.array([True, False, False, True, True, True, False, False, True, True, True, False, False, True])\n",
    "print(x)\n",
    "print(x[mask])"
   ]
  },
  {
   "cell_type": "markdown",
   "metadata": {
    "deletable": true,
    "editable": true,
    "slideshow": {
     "slide_type": "slide"
    }
   },
   "source": [
    "Now this doesn't look very useful because it is very verbose, but now consider that carrying out a comparison with the array will return such a boolean array:"
   ]
  },
  {
   "cell_type": "code",
   "execution_count": 56,
   "metadata": {
    "collapsed": false,
    "deletable": true,
    "editable": true
   },
   "outputs": [
    {
     "data": {
      "text/plain": [
       "array([False,  True,  True,  True,  True, False, False,  True,  True,\n",
       "        True, False,  True,  True, False], dtype=bool)"
      ]
     },
     "execution_count": 56,
     "metadata": {},
     "output_type": "execute_result"
    }
   ],
   "source": [
    "x > 3.4"
   ]
  },
  {
   "cell_type": "markdown",
   "metadata": {
    "deletable": true,
    "editable": true,
    "slideshow": {
     "slide_type": "slide"
    }
   },
   "source": [
    "It is therefore possible to extract subsets from an array using the following simple notation:"
   ]
  },
  {
   "cell_type": "code",
   "execution_count": 57,
   "metadata": {
    "collapsed": false,
    "deletable": true,
    "editable": true
   },
   "outputs": [
    {
     "data": {
      "text/plain": [
       "array([6, 4, 7, 9, 5, 6, 7, 4, 4])"
      ]
     },
     "execution_count": 57,
     "metadata": {},
     "output_type": "execute_result"
    }
   ],
   "source": [
    "x[x > 3.4]"
   ]
  },
  {
   "cell_type": "markdown",
   "metadata": {
    "deletable": true,
    "editable": true,
    "slideshow": {
     "slide_type": "slide"
    }
   },
   "source": [
    "Conditions can be combined:"
   ]
  },
  {
   "cell_type": "code",
   "execution_count": 58,
   "metadata": {
    "collapsed": false,
    "deletable": true,
    "editable": true
   },
   "outputs": [
    {
     "data": {
      "text/plain": [
       "array([4, 5, 4, 4])"
      ]
     },
     "execution_count": 58,
     "metadata": {},
     "output_type": "execute_result"
    }
   ],
   "source": [
    "x[(x > 3.4) & (x < 5.5)]"
   ]
  },
  {
   "cell_type": "markdown",
   "metadata": {
    "deletable": true,
    "editable": true,
    "slideshow": {
     "slide_type": "slide"
    }
   },
   "source": [
    "Of course, the boolean **mask** can be derived from a different array to ``x`` as long as it is the right size:"
   ]
  },
  {
   "cell_type": "code",
   "execution_count": 59,
   "metadata": {
    "collapsed": false,
    "deletable": true,
    "editable": true
   },
   "outputs": [],
   "source": [
    "x = np.linspace(-1., 1., 14)\n",
    "y = np.array([1,6,4,7,9,3,1,5,6,7,3,4,4,3])"
   ]
  },
  {
   "cell_type": "code",
   "execution_count": 60,
   "metadata": {
    "collapsed": false,
    "deletable": true,
    "editable": true,
    "slideshow": {
     "slide_type": "fragment"
    }
   },
   "outputs": [
    {
     "data": {
      "text/plain": [
       "array([9, 3, 1, 5, 6, 7])"
      ]
     },
     "execution_count": 60,
     "metadata": {},
     "output_type": "execute_result"
    }
   ],
   "source": [
    "y[(x > -0.5) & (x < 0.4)]"
   ]
  },
  {
   "cell_type": "markdown",
   "metadata": {
    "deletable": true,
    "editable": true,
    "slideshow": {
     "slide_type": "slide"
    }
   },
   "source": [
    "Since the mask itself is an array, it can be stored in a variable and used as a mask for different arrays:"
   ]
  },
  {
   "cell_type": "code",
   "execution_count": 61,
   "metadata": {
    "collapsed": false,
    "deletable": true,
    "editable": true
   },
   "outputs": [],
   "source": [
    "keep = (x > -0.5) & (x < 0.4)\n",
    "x_new = x[keep]\n",
    "y_new = y[keep]"
   ]
  },
  {
   "cell_type": "code",
   "execution_count": 62,
   "metadata": {
    "collapsed": false,
    "deletable": true,
    "editable": true
   },
   "outputs": [
    {
     "data": {
      "text/plain": [
       "array([-0.38461538, -0.23076923, -0.07692308,  0.07692308,  0.23076923,\n",
       "        0.38461538])"
      ]
     },
     "execution_count": 62,
     "metadata": {},
     "output_type": "execute_result"
    }
   ],
   "source": [
    "x_new"
   ]
  },
  {
   "cell_type": "code",
   "execution_count": 63,
   "metadata": {
    "collapsed": false,
    "deletable": true,
    "editable": true
   },
   "outputs": [
    {
     "data": {
      "text/plain": [
       "array([9, 3, 1, 5, 6, 7])"
      ]
     },
     "execution_count": 63,
     "metadata": {},
     "output_type": "execute_result"
    }
   ],
   "source": [
    "y_new"
   ]
  },
  {
   "cell_type": "markdown",
   "metadata": {
    "deletable": true,
    "editable": true,
    "slideshow": {
     "slide_type": "slide"
    }
   },
   "source": [
    "A mask can also appear on the left hand side of an assignment:"
   ]
  },
  {
   "cell_type": "code",
   "execution_count": 64,
   "metadata": {
    "collapsed": false,
    "deletable": true,
    "editable": true
   },
   "outputs": [],
   "source": [
    "y[y > 5] = 0."
   ]
  },
  {
   "cell_type": "code",
   "execution_count": 65,
   "metadata": {
    "collapsed": false,
    "deletable": true,
    "editable": true,
    "slideshow": {
     "slide_type": "fragment"
    }
   },
   "outputs": [
    {
     "data": {
      "text/plain": [
       "array([1, 0, 4, 0, 0, 3, 1, 5, 0, 0, 3, 4, 4, 3])"
      ]
     },
     "execution_count": 65,
     "metadata": {},
     "output_type": "execute_result"
    }
   ],
   "source": [
    "y"
   ]
  },
  {
   "cell_type": "markdown",
   "metadata": {
    "deletable": true,
    "editable": true
   },
   "source": [
    "## Exercise 3"
   ]
  },
  {
   "cell_type": "markdown",
   "metadata": {
    "deletable": true,
    "editable": true
   },
   "source": [
    "The [data/munich_temperatures_average_with_bad_data.txt](data/munich_temperatures_average_with_bad_data.txt) data file gives the temperature in Munich every day for several years:"
   ]
  },
  {
   "cell_type": "code",
   "execution_count": 66,
   "metadata": {
    "collapsed": false,
    "deletable": true,
    "editable": true
   },
   "outputs": [
    {
     "name": "stdout",
     "output_type": "stream",
     "text": [
      "1995.00274 0.944444\r\n",
      "1995.00548 -1.61111\r\n",
      "1995.00821 -3.55556\r\n",
      "1995.01095 -9.83333\r\n",
      "1995.01369 -10.2222\r\n",
      "1995.01643 -9.5\r\n",
      "1995.01916 -10.2222\r\n",
      "1995.02190 -6.61111\r\n",
      "1995.02464 -2.94444\r\n",
      "1995.02738 1.55556\r\n"
     ]
    }
   ],
   "source": [
    "!head data/munich_temperatures_average_with_bad_data.txt  # shows the 10 first lines of a file"
   ]
  },
  {
   "cell_type": "markdown",
   "metadata": {
    "deletable": true,
    "editable": true
   },
   "source": [
    "Read in the file using ``np.loadtxt``. The data contains bad values, which you can identify by looking at the minimum and maximum values of the array. Use masking to get rid of the bad temperature values."
   ]
  },
  {
   "cell_type": "code",
   "execution_count": 67,
   "metadata": {
    "collapsed": false,
    "deletable": true,
    "editable": true
   },
   "outputs": [
    {
     "name": "stdout",
     "output_type": "stream",
     "text": [
      "1995.00274 2013.28474\n",
      "-99.0 99.0\n",
      "-16.7778 27.6667\n",
      "6679 60\n",
      "-16.7778 27.6667\n"
     ]
    }
   ],
   "source": [
    "\n",
    "# your solution here\n",
    "date, temp = np.loadtxt('data/munich_temperatures_average_with_bad_data.txt', unpack=True)\n",
    "print(min(date),max(date))\n",
    "print(min(temp),max(temp))\n",
    "print(min(temp[temp>-99.]),max(temp[temp<99.]))\n",
    "mask = (temp > -99.) & (temp < 99.)\n",
    "date_new, temp_new = date[mask], temp[mask]\n",
    "nbad = len(mask)-sum(mask)\n",
    "print(len(mask),nbad)\n",
    "print(min(temp_new),max(temp_new))"
   ]
  }
 ],
 "metadata": {
  "anaconda-cloud": {},
  "kernelspec": {
   "display_name": "Python 3",
   "language": "python",
   "name": "python3"
  },
  "language_info": {
   "codemirror_mode": {
    "name": "ipython",
    "version": 3
   },
   "file_extension": ".py",
   "mimetype": "text/x-python",
   "name": "python",
   "nbconvert_exporter": "python",
   "pygments_lexer": "ipython3",
   "version": "3.5.3"
  }
 },
 "nbformat": 4,
 "nbformat_minor": 0
}
