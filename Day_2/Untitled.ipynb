{
 "cells": [
  {
   "cell_type": "code",
   "execution_count": 77,
   "metadata": {},
   "outputs": [
    {
     "name": "stdout",
     "output_type": "stream",
     "text": [
      "ATGCGGC\n",
      "['', '']\n",
      "7\n",
      "GG\n"
     ]
    }
   ],
   "source": [
    "#import numpy as np\n",
    "def reverse_compliment(x):\n",
    "    print x\n",
    "    y = list(x)\n",
    "    z = len(x)\n",
    "    print y\n",
    "    print z\n",
    "    for i in range(0,len(y)):\n",
    "        c = y[i]\n",
    "        if c=='A':\n",
    "            y[i]='T'\n",
    "            #j = j + 1\n",
    "        elif c=='T':\n",
    "            #print(8)\n",
    "            y[i]='A'\n",
    "            #j = j +1\n",
    "        elif c =='G':\n",
    "            #print(9)\n",
    "            y[i]='C'\n",
    "            #j = j+1\n",
    "        else:\n",
    "            #print(10)\n",
    "            y[i]='G'\n",
    "            #j = j+1\n",
    "    dnacompliment = ''.join(y)\n",
    "    print dnacompliment\n",
    "\n",
    "reverse_compliment('ATGCGGC')\n"
   ]
  },
  {
   "cell_type": "code",
   "execution_count": 65,
   "metadata": {
    "scrolled": true
   },
   "outputs": [
    {
     "name": "stdout",
     "output_type": "stream",
     "text": [
      "AAUCUCUACGGAAGUAGGUCAGUACUGAUCGAUCAGUCGAUCGGGCGGCGAUUUCGAUCUGAUUGUACGGCGGGCUAG\n",
      "['AAU', 'CUC', 'UAC', 'GGA', 'AGU', 'AGG', 'UCA', 'GUA', 'CUG', 'AUC', 'GAU', 'CAG', 'UCG', 'AUC', 'GGG', 'CGG', 'CGA', 'UUU', 'CGA', 'UCU', 'GAU', 'UGU', 'ACG', 'GCG', 'GGC', 'UAG']\n",
      "['UUU', 'UUC', 'UUA', 'UUG', 'UCU', 'UCC', 'UCA', 'UCG', 'UAU', 'UAC', 'UAA', 'UAG', 'UGU', 'UGC', 'UGA', 'UGG', 'CUU', 'CUC', 'CUA', 'CUG', 'CCU', 'CCC', 'CCA', 'CCG', 'CAU', 'CAC', 'CAA', 'CAG', 'CGU', 'CGC', 'CGA', 'CGG', 'AUU', 'AUC', 'AUA', 'AUG', 'ACU', 'ACC', 'ACA', 'ACG', 'AAU', 'AAC', 'AAA', 'AAG', 'AGU', 'AGC', 'AGA', 'AGG', 'GUU', 'GUC', 'GUA', 'GUG', 'GCU', 'GCC', 'GCA', 'GCG', 'GAU', 'GAC', 'GAA', 'GAG', 'GGU', 'GGC', 'GGA', 'GGG']\n",
      "['F', 'F', 'L', 'L', 'S', 'S', 'S', 'S', 'Y', 'Y', 'Stop', 'Stop', 'C', 'C', 'Stop', 'W', 'L', 'L', 'L', 'L', 'P', 'P', 'P', 'P', 'H', 'H', 'Q', 'Q', 'R', 'R', 'R', 'R', 'I', 'I', 'I', 'M', 'T', 'T', 'T', 'T', 'N', 'N', 'K', 'K', 'S', 'S', 'R', 'R', 'V', 'V', 'V', 'V', 'A', 'A', 'A', 'A', 'D', 'D', 'E', 'E', 'G', 'G', 'G', 'G']\n",
      "26\n",
      "NLYGSRSVLIDQSIGRRFRSDCTAG\n"
     ]
    }
   ],
   "source": [
    "blah= \"AATCTCTACGGAAGTAGGTCAGTACTGATCGATCAGTCGATCGGGCGGCGATTTCGATCTGATTGTACGGCGGGCTAG\"\n",
    "def reverse_compliment(x):\n",
    "    #print (x)\n",
    "    y = list(x)\n",
    "    z = len(x)\n",
    "    #print (y)\n",
    "    #print (z)\n",
    "    for i in range(0,len(y)):\n",
    "        c = y[i]\n",
    "        if c=='T':\n",
    "            y[i]='U'            \n",
    "        else: \n",
    "            y[i]=c\n",
    "            \n",
    "    #Y = list(reversed(y))\n",
    "    dnacompliment = ''.join(y)\n",
    "    return dnacompliment\n",
    " \n",
    "blahblah=(reverse_compliment(blah))\n",
    "print blahblah\n",
    "\n",
    "def split_by_n( seq, n ):\n",
    "    #A generator to divide a sequence into chunks of n units.\n",
    "    while seq:\n",
    "        yield seq[:n]\n",
    "        seq = seq[n:]\n",
    "s =  list(split_by_n(blahblah,3))\n",
    "\n",
    "print s\n",
    "\n",
    "f= open('problem_1_codons.txt','r')\n",
    "\n",
    "lines = f.read().splitlines()\n",
    "#lines=f.readlines.strip()\n",
    "#for line in f:\n",
    " #   line = line.strip()\n",
    "  #  print(repr(line))\n",
    "    \n",
    "mrna=[]\n",
    "pro=[]\n",
    "#print lines\n",
    "\n",
    "for x in lines:\n",
    "    mrna.append(x.split(' ')[0])\n",
    "    pro.append(x.split(' ')[1])\n",
    "\n",
    "print mrna\n",
    "print pro\n",
    "\n",
    "seq = []\n",
    "#print len(mrna) \n",
    "print (len(s))\n",
    "\n",
    "for j in range(len(s)):\n",
    "    for i in range(len(mrna)):\n",
    "        if s[j]==mrna[i]:\n",
    "            if pro[i]=='Stop':\n",
    "                break\n",
    "            else:\n",
    "                seq.append(pro[i])\n",
    "            \n",
    "\n",
    "seq1 = ''.join(seq)\n",
    "print seq1\n",
    "\n",
    "            \n",
    "            \n",
    "            "
   ]
  },
  {
   "cell_type": "code",
   "execution_count": 36,
   "metadata": {},
   "outputs": [
    {
     "name": "stdout",
     "output_type": "stream",
     "text": [
      "AAUCUCUACGGAAGUAGGUCAGUACUGAUCGAUCAGUCGAUCGGGCGGCGAUUUCGAUCUGAUUGUACGGCGGGCUAG\n"
     ]
    }
   ],
   "source": [
    "def reverse_compliment(x):\n",
    "    #print (x)\n",
    "    y = list(x)\n",
    "    z = len(x)\n",
    "    #print (y)\n",
    "    #print (z)\n",
    "    for i in range(0,len(y)):\n",
    "        c = y[i]\n",
    "        if c=='T':\n",
    "            y[i]='U'            \n",
    "        else: \n",
    "            y[i]=c\n",
    "            \n",
    "    #z = list(reversed(y))\n",
    "    dnacompliment = ''.join(y)\n",
    "    return dnacompliment\n",
    " \n",
    "print(reverse_compliment('AATCTCTACGGAAGTAGGTCAGTACTGATCGATCAGTCGATCGGGCGGCGATTTCGATCTGATTGTACGGCGGGCTAG'))"
   ]
  },
  {
   "cell_type": "code",
   "execution_count": 67,
   "metadata": {},
   "outputs": [
    {
     "name": "stdout",
     "output_type": "stream",
     "text": [
      "AAUCUCUACGGAAGUAGGUCAGUACUGAUCGAUCAGUCGAUCGGGCGGCGAUUUCGAUCUGAUUGUACGGCGGGCUAG\n",
      "['AAU', 'CUC', 'UAC', 'GGA', 'AGU', 'AGG', 'UCA', 'GUA', 'CUG', 'AUC', 'GAU', 'CAG', 'UCG', 'AUC', 'GGG', 'CGG', 'CGA', 'UUU', 'CGA', 'UCU', 'GAU', 'UGU', 'ACG', 'GCG', 'GGC', 'UAG']\n",
      "['UUU', 'UUC', 'UUA', 'UUG', 'UCU', 'UCC', 'UCA', 'UCG', 'UAU', 'UAC', 'UAA', 'UAG', 'UGU', 'UGC', 'UGA', 'UGG', 'CUU', 'CUC', 'CUA', 'CUG', 'CCU', 'CCC', 'CCA', 'CCG', 'CAU', 'CAC', 'CAA', 'CAG', 'CGU', 'CGC', 'CGA', 'CGG', 'AUU', 'AUC', 'AUA', 'AUG', 'ACU', 'ACC', 'ACA', 'ACG', 'AAU', 'AAC', 'AAA', 'AAG', 'AGU', 'AGC', 'AGA', 'AGG', 'GUU', 'GUC', 'GUA', 'GUG', 'GCU', 'GCC', 'GCA', 'GCG', 'GAU', 'GAC', 'GAA', 'GAG', 'GGU', 'GGC', 'GGA', 'GGG']\n",
      "['F', 'F', 'L', 'L', 'S', 'S', 'S', 'S', 'Y', 'Y', 'Stop', 'Stop', 'C', 'C', 'Stop', 'W', 'L', 'L', 'L', 'L', 'P', 'P', 'P', 'P', 'H', 'H', 'Q', 'Q', 'R', 'R', 'R', 'R', 'I', 'I', 'I', 'M', 'T', 'T', 'T', 'T', 'N', 'N', 'K', 'K', 'S', 'S', 'R', 'R', 'V', 'V', 'V', 'V', 'A', 'A', 'A', 'A', 'D', 'D', 'E', 'E', 'G', 'G', 'G', 'G']\n",
      "26\n",
      "NLYGSRSVLIDQSIGRRFRSDCTAG\n"
     ]
    }
   ],
   "source": [
    "#Author : Bhavya Joshi\n",
    "\n",
    "dna= \"AATCTCTACGGAAGTAGGTCAGTACTGATCGATCAGTCGATCGGGCGGCGATTTCGATCTGATTGTACGGCGGGCTAG\"\n",
    "# function below convert dna to rna.\n",
    "def dna_to_mrna(x):\n",
    "    #print (x)\n",
    "    y = list(x)\n",
    "    z = len(x)\n",
    "    #print (y)\n",
    "    #print (z)\n",
    "    for i in range(0,len(y)):\n",
    "        c = y[i]\n",
    "        if c=='T':\n",
    "            y[i]='U'            \n",
    "        else: \n",
    "            y[i]=c\n",
    "            \n",
    "    mrna0 = ''.join(y)\n",
    "    return mrna0\n",
    " \n",
    "mrna=(dna_to_mrna(dna))\n",
    "\n",
    "print mrna\n",
    "\n",
    "#function below split mran into condons.\n",
    "def split_by_n( seq, n ):\n",
    "    #A generator to divide a sequence into chunks of n units.\n",
    "    while seq:\n",
    "        yield seq[:n]\n",
    "        seq = seq[n:]\n",
    "s =  list(split_by_n(mrna,3))\n",
    "\n",
    "print s\n",
    "\n",
    "def dna_to_protein(dna):\n",
    "    f= open('/home/bhavya/Documents/AA/PythonProgramming/Day_2/problem_1_codons.txt','r')\n",
    "    lines = f.read().splitlines()\n",
    "    #lines=f.readlines.strip()\n",
    "    #for line in f:\n",
    "     #   line = line.strip()\n",
    "          #  print(repr(line))\n",
    "    mrna=[]\n",
    "    pro=[]\n",
    "    #print lines\n",
    "    for x in lines:\n",
    "        mrna.append(x.split(' ')[0])\n",
    "        pro.append(x.split(' ')[1])\n",
    "    print mrna\n",
    "    print pro\n",
    "    seq = []\n",
    "    #print len(mrna) \n",
    "    print (len(s))\n",
    "    \n",
    "    for j in range(len(s)):\n",
    "        for i in range(len(mrna)):\n",
    "            if s[j]==mrna[i]:\n",
    "                if pro[i]=='Stop':\n",
    "                    break\n",
    "                else:\n",
    "                    seq.append(pro[i])\n",
    "    seq1 = ''.join(seq)\n",
    "    return seq1\n",
    "\n",
    "print dna_to_protein(dna)"
   ]
  },
  {
   "cell_type": "code",
   "execution_count": null,
   "metadata": {
    "collapsed": true
   },
   "outputs": [],
   "source": []
  }
 ],
 "metadata": {
  "kernelspec": {
   "display_name": "Python 2",
   "language": "python",
   "name": "python2"
  },
  "language_info": {
   "codemirror_mode": {
    "name": "ipython",
    "version": 2
   },
   "file_extension": ".py",
   "mimetype": "text/x-python",
   "name": "python",
   "nbconvert_exporter": "python",
   "pygments_lexer": "ipython2",
   "version": "2.7.13"
  }
 },
 "nbformat": 4,
 "nbformat_minor": 2
}
